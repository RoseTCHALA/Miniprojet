{
 "cells": [
  {
   "cell_type": "markdown",
   "id": "5f069497-37b0-4a2c-80bf-c9f754183bd6",
   "metadata": {},
   "source": [
    "# Projet MNIST"
   ]
  },
  {
   "cell_type": "markdown",
   "id": "594fa6c9-d7da-4abc-9aa5-3bf214ad8f16",
   "metadata": {},
   "source": [
    "##### Chargement des modules nécéssaires"
   ]
  },
  {
   "cell_type": "code",
   "execution_count": 1,
   "id": "f6791f6d-59ab-4476-9b78-0425f9a1cbfd",
   "metadata": {},
   "outputs": [],
   "source": [
    "import numpy as np\n",
    "import pandas as pd \n",
    "import seaborn as sns\n",
    "from matplotlib import pyplot as plt # plots\n",
    "import os \n",
    "import tensorflow as tf\n",
    "from sklearn.metrics import classification_report, confusion_matrix"
   ]
  },
  {
   "cell_type": "markdown",
   "id": "2232c951-7ed1-41f7-8575-ccea40b3ff00",
   "metadata": {},
   "source": [
    "##### Chargement des données MNIST"
   ]
  },
  {
   "cell_type": "code",
   "execution_count": 3,
   "id": "9460e28a-3ea4-47c7-8b71-1260a3cbcbbe",
   "metadata": {},
   "outputs": [],
   "source": [
    "from keras.datasets import fashion_mnist\n",
    "(train_images, train_labels), (test_images, test_labels) = fashion_mnist.load_data()"
   ]
  },
  {
   "cell_type": "code",
   "execution_count": 6,
   "id": "050ac4fd-5890-4745-bb6e-c8f23aaabf36",
   "metadata": {},
   "outputs": [
    {
     "name": "stdout",
     "output_type": "stream",
     "text": [
      "[0 1 2 3 4 5 6 7 8 9]\n",
      "(60000, 28, 28)\n"
     ]
    }
   ],
   "source": [
    "print(np.unique(train_labels))\n",
    "print(train_images.shape)"
   ]
  },
  {
   "cell_type": "markdown",
   "id": "728e1757-7bb9-46f2-b653-c49ce0bdf728",
   "metadata": {},
   "source": [
    "Il y a bien 10 labels, et 60 000 images 28x28 dans les données."
   ]
  },
  {
   "cell_type": "markdown",
   "id": "089e66fb-ae31-46d8-91ae-72002df2156b",
   "metadata": {},
   "source": [
    "##### Visualisation de quelques données "
   ]
  },
  {
   "cell_type": "code",
   "execution_count": 12,
   "id": "acb1ae57-e25a-487d-bf15-162a24b28ffb",
   "metadata": {},
   "outputs": [
    {
     "data": {
      "image/png": "[encoded data removed]",
      "text/plain": [
       "<Figure size 1000x600 with 9 Axes>"
      ]
     },
     "metadata": {},
     "output_type": "display_data"
    }
   ],
   "source": [
    "# On va visualiser 9 images\n",
    "num_rows, num_cols = 3, 3\n",
    "\n",
    "fig, axes = plt.subplots(num_rows, num_cols, figsize=(10, 6))\n",
    "\n",
    "for i, ax in enumerate(axes.flat): \n",
    "    ax.imshow(train_images[i], cmap='gray')  \n",
    "    ax.set_title(f\"Label: {train_labels[i]}\")  \n",
    "\n",
    "    ax.axis('off')  # Masquer les axes\n",
    "\n",
    "plt.show()\n"
   ]
  },
  {
   "cell_type": "markdown",
   "id": "74a69c0c-0b62-4832-81ef-ad249ac100a3",
   "metadata": {},
   "source": [
    "##### Construction d'un réseau de neurones \"simple\""
   ]
  },
  {
   "cell_type": "markdown",
   "id": "ff03d48e-8929-49cb-a8fc-ca4640fdb9a2",
   "metadata": {},
   "source": [
    "On va commencer par \"applatir\" les images en un vecteur de longeur 784 (28x28)"
   ]
  },
  {
   "cell_type": "code",
   "execution_count": 14,
   "id": "2f58e67a-1977-4a49-b554-80ac2990e23f",
   "metadata": {},
   "outputs": [],
   "source": [
    "train_images_flat = train_images.reshape(train_images.shape[0], -1)  \n",
    "test_images_flat = test_images.reshape(test_images.shape[0], -1)"
   ]
  },
  {
   "cell_type": "markdown",
   "id": "dabedb14-b5a9-4aba-b76d-de613852dc31",
   "metadata": {},
   "source": [
    "Ensuite on réalise un one hot encoding sur les labels train et test"
   ]
  },
  {
   "cell_type": "code",
   "execution_count": 16,
   "id": "71ac010d-424b-4a23-a798-4ca659773c91",
   "metadata": {},
   "outputs": [],
   "source": [
    "y_train_oh = pd.get_dummies(train_labels) # OHE\n",
    "y_test_oh = pd.get_dummies(test_labels) # OHE"
   ]
  },
  {
   "cell_type": "code",
   "execution_count": 18,
   "id": "d3b0d89b-c1ca-45db-aae7-86862c76f394",
   "metadata": {},
   "outputs": [
    {
     "data": {
      "text/html": [
       "<div>\n",
       "<style scoped>\n",
       "    .dataframe tbody tr th:only-of-type {\n",
       "        vertical-align: middle;\n",
       "    }\n",
       "\n",
       "    .dataframe tbody tr th {\n",
       "        vertical-align: top;\n",
       "    }\n",
       "\n",
       "    .dataframe thead th {\n",
       "        text-align: right;\n",
       "    }\n",
       "</style>\n",
       "<table border=\"1\" class=\"dataframe\">\n",
       "  <thead>\n",
       "    <tr style=\"text-align: right;\">\n",
       "      <th></th>\n",
       "      <th>0</th>\n",
       "      <th>1</th>\n",
       "      <th>2</th>\n",
       "      <th>3</th>\n",
       "      <th>4</th>\n",
       "      <th>5</th>\n",
       "      <th>6</th>\n",
       "      <th>7</th>\n",
       "      <th>8</th>\n",
       "      <th>9</th>\n",
       "    </tr>\n",
       "  </thead>\n",
       "  <tbody>\n",
       "    <tr>\n",
       "      <th>0</th>\n",
       "      <td>False</td>\n",
       "      <td>False</td>\n",
       "      <td>False</td>\n",
       "      <td>False</td>\n",
       "      <td>False</td>\n",
       "      <td>False</td>\n",
       "      <td>False</td>\n",
       "      <td>False</td>\n",
       "      <td>False</td>\n",
       "      <td>True</td>\n",
       "    </tr>\n",
       "    <tr>\n",
       "      <th>1</th>\n",
       "      <td>True</td>\n",
       "      <td>False</td>\n",
       "      <td>False</td>\n",
       "      <td>False</td>\n",
       "      <td>False</td>\n",
       "      <td>False</td>\n",
       "      <td>False</td>\n",
       "      <td>False</td>\n",
       "      <td>False</td>\n",
       "      <td>False</td>\n",
       "    </tr>\n",
       "    <tr>\n",
       "      <th>2</th>\n",
       "      <td>True</td>\n",
       "      <td>False</td>\n",
       "      <td>False</td>\n",
       "      <td>False</td>\n",
       "      <td>False</td>\n",
       "      <td>False</td>\n",
       "      <td>False</td>\n",
       "      <td>False</td>\n",
       "      <td>False</td>\n",
       "      <td>False</td>\n",
       "    </tr>\n",
       "    <tr>\n",
       "      <th>3</th>\n",
       "      <td>False</td>\n",
       "      <td>False</td>\n",
       "      <td>False</td>\n",
       "      <td>True</td>\n",
       "      <td>False</td>\n",
       "      <td>False</td>\n",
       "      <td>False</td>\n",
       "      <td>False</td>\n",
       "      <td>False</td>\n",
       "      <td>False</td>\n",
       "    </tr>\n",
       "    <tr>\n",
       "      <th>4</th>\n",
       "      <td>True</td>\n",
       "      <td>False</td>\n",
       "      <td>False</td>\n",
       "      <td>False</td>\n",
       "      <td>False</td>\n",
       "      <td>False</td>\n",
       "      <td>False</td>\n",
       "      <td>False</td>\n",
       "      <td>False</td>\n",
       "      <td>False</td>\n",
       "    </tr>\n",
       "  </tbody>\n",
       "</table>\n",
       "</div>"
      ],
      "text/plain": [
       "       0      1      2      3      4      5      6      7      8      9\n",
       "0  False  False  False  False  False  False  False  False  False   True\n",
       "1   True  False  False  False  False  False  False  False  False  False\n",
       "2   True  False  False  False  False  False  False  False  False  False\n",
       "3  False  False  False   True  False  False  False  False  False  False\n",
       "4   True  False  False  False  False  False  False  False  False  False"
      ]
     },
     "execution_count": 18,
     "metadata": {},
     "output_type": "execute_result"
    }
   ],
   "source": [
    "y_train_oh.head()"
   ]
  },
  {
   "cell_type": "markdown",
   "id": "beb6fdb8-817d-4251-8a79-38f04ab4d21c",
   "metadata": {},
   "source": [
    "Maintenant on construit le réseau de neurones simple. . Attention ; on utilise le dropout de 30% pour éviter le surapprentissage. Par exemple, un dropout de 50% signifie que 50% des neurones sont ignorés au cours de chaque itération. Ces neurones sont choisis aléatoirement."
   ]
  },
  {
   "cell_type": "code",
   "execution_count": 71,
   "id": "e98c0b29-5c28-443f-a36b-47e790cc9db4",
   "metadata": {},
   "outputs": [
    {
     "name": "stderr",
     "output_type": "stream",
     "text": [
      "C:\\Users\\Rose Tchala Sare\\anaconda3\\Lib\\site-packages\\keras\\src\\layers\\core\\dense.py:87: UserWarning: Do not pass an `input_shape`/`input_dim` argument to a layer. When using Sequential models, prefer using an `Input(shape)` object as the first layer in the model instead.\n",
      "  super().__init__(activity_regularizer=activity_regularizer, **kwargs)\n"
     ]
    }
   ],
   "source": [
    "simple_nn = tf.keras.models.Sequential([\n",
    "    #Sequential : Enchainement des couches de manière séquentielle. Toutes les couches sont reliées les unes aux autres.\n",
    "\n",
    "    #Couche d'entrée\n",
    "    tf.keras.layers.Dense(units= train_images_flat.shape[1] , activation='relu', input_shape=(train_images_flat.shape[1],)),\n",
    "\n",
    "    #Premère couche cachée\n",
    "    tf.keras.layers.Dense(units=256, activation='relu'),\n",
    "    tf.keras.layers.Dropout(0.3),\n",
    "    \n",
    "    # Seconde couche cachée \n",
    "    tf.keras.layers.Dense(units=128, activation='relu'),\n",
    "    tf.keras.layers.Dropout(0.3),  \n",
    "    \n",
    "    # Couche de sortie\n",
    "    tf.keras.layers.Dense(units=10, activation=\"softmax\")\n",
    "])"
   ]
  },
  {
   "cell_type": "markdown",
   "id": "9e1c54a1-40f5-4c4d-9705-70fbe43ed488",
   "metadata": {},
   "source": [
    "Compilation du modèle :"
   ]
  },
  {
   "cell_type": "code",
   "execution_count": 72,
   "id": "2588c8dd-cedf-4a08-b877-a7a38d6e5063",
   "metadata": {},
   "outputs": [],
   "source": [
    "simple_nn.compile(optimizer=tf.keras.optimizers.RMSprop(learning_rate=0.001),\n",
    "                  loss=tf.keras.losses.CategoricalCrossentropy(), #Classification multiclasse\n",
    "                  metrics=[tf.keras.metrics.CategoricalAccuracy()])\n"
   ]
  },
  {
   "cell_type": "code",
   "execution_count": 73,
   "id": "98e098ad-9f46-4db8-8a00-4307cd5e9a93",
   "metadata": {},
   "outputs": [
    {
     "data": {
      "text/html": [
       "<pre style=\"white-space:pre;overflow-x:auto;line-height:normal;font-family:Menlo,'DejaVu Sans Mono',consolas,'Courier New',monospace\"><span style=\"font-weight: bold\">Model: \"sequential_21\"</span>\n",
       "</pre>\n"
      ],
      "text/plain": [
       "\u001b[1mModel: \"sequential_21\"\u001b[0m\n"
      ]
     },
     "metadata": {},
     "output_type": "display_data"
    },
    {
     "data": {
      "text/html": [
       "<pre style=\"white-space:pre;overflow-x:auto;line-height:normal;font-family:Menlo,'DejaVu Sans Mono',consolas,'Courier New',monospace\">┏━━━━━━━━━━━━━━━━━━━━━━━━━━━━━━━━━┳━━━━━━━━━━━━━━━━━━━━━━━━┳━━━━━━━━━━━━━━━┓\n",
       "┃<span style=\"font-weight: bold\"> Layer (type)                    </span>┃<span style=\"font-weight: bold\"> Output Shape           </span>┃<span style=\"font-weight: bold\">       Param # </span>┃\n",
       "┡━━━━━━━━━━━━━━━━━━━━━━━━━━━━━━━━━╇━━━━━━━━━━━━━━━━━━━━━━━━╇━━━━━━━━━━━━━━━┩\n",
       "│ dense_74 (<span style=\"color: #0087ff; text-decoration-color: #0087ff\">Dense</span>)                │ (<span style=\"color: #00d7ff; text-decoration-color: #00d7ff\">None</span>, <span style=\"color: #00af00; text-decoration-color: #00af00\">784</span>)            │       <span style=\"color: #00af00; text-decoration-color: #00af00\">615,440</span> │\n",
       "├─────────────────────────────────┼────────────────────────┼───────────────┤\n",
       "│ dense_75 (<span style=\"color: #0087ff; text-decoration-color: #0087ff\">Dense</span>)                │ (<span style=\"color: #00d7ff; text-decoration-color: #00d7ff\">None</span>, <span style=\"color: #00af00; text-decoration-color: #00af00\">256</span>)            │       <span style=\"color: #00af00; text-decoration-color: #00af00\">200,960</span> │\n",
       "├─────────────────────────────────┼────────────────────────┼───────────────┤\n",
       "│ dropout_42 (<span style=\"color: #0087ff; text-decoration-color: #0087ff\">Dropout</span>)            │ (<span style=\"color: #00d7ff; text-decoration-color: #00d7ff\">None</span>, <span style=\"color: #00af00; text-decoration-color: #00af00\">256</span>)            │             <span style=\"color: #00af00; text-decoration-color: #00af00\">0</span> │\n",
       "├─────────────────────────────────┼────────────────────────┼───────────────┤\n",
       "│ dense_76 (<span style=\"color: #0087ff; text-decoration-color: #0087ff\">Dense</span>)                │ (<span style=\"color: #00d7ff; text-decoration-color: #00d7ff\">None</span>, <span style=\"color: #00af00; text-decoration-color: #00af00\">128</span>)            │        <span style=\"color: #00af00; text-decoration-color: #00af00\">32,896</span> │\n",
       "├─────────────────────────────────┼────────────────────────┼───────────────┤\n",
       "│ dropout_43 (<span style=\"color: #0087ff; text-decoration-color: #0087ff\">Dropout</span>)            │ (<span style=\"color: #00d7ff; text-decoration-color: #00d7ff\">None</span>, <span style=\"color: #00af00; text-decoration-color: #00af00\">128</span>)            │             <span style=\"color: #00af00; text-decoration-color: #00af00\">0</span> │\n",
       "├─────────────────────────────────┼────────────────────────┼───────────────┤\n",
       "│ dense_77 (<span style=\"color: #0087ff; text-decoration-color: #0087ff\">Dense</span>)                │ (<span style=\"color: #00d7ff; text-decoration-color: #00d7ff\">None</span>, <span style=\"color: #00af00; text-decoration-color: #00af00\">10</span>)             │         <span style=\"color: #00af00; text-decoration-color: #00af00\">1,290</span> │\n",
       "└─────────────────────────────────┴────────────────────────┴───────────────┘\n",
       "</pre>\n"
      ],
      "text/plain": [
       "┏━━━━━━━━━━━━━━━━━━━━━━━━━━━━━━━━━┳━━━━━━━━━━━━━━━━━━━━━━━━┳━━━━━━━━━━━━━━━┓\n",
       "┃\u001b[1m \u001b[0m\u001b[1mLayer (type)                   \u001b[0m\u001b[1m \u001b[0m┃\u001b[1m \u001b[0m\u001b[1mOutput Shape          \u001b[0m\u001b[1m \u001b[0m┃\u001b[1m \u001b[0m\u001b[1m      Param #\u001b[0m\u001b[1m \u001b[0m┃\n",
       "┡━━━━━━━━━━━━━━━━━━━━━━━━━━━━━━━━━╇━━━━━━━━━━━━━━━━━━━━━━━━╇━━━━━━━━━━━━━━━┩\n",
       "│ dense_74 (\u001b[38;5;33mDense\u001b[0m)                │ (\u001b[38;5;45mNone\u001b[0m, \u001b[38;5;34m784\u001b[0m)            │       \u001b[38;5;34m615,440\u001b[0m │\n",
       "├─────────────────────────────────┼────────────────────────┼───────────────┤\n",
       "│ dense_75 (\u001b[38;5;33mDense\u001b[0m)                │ (\u001b[38;5;45mNone\u001b[0m, \u001b[38;5;34m256\u001b[0m)            │       \u001b[38;5;34m200,960\u001b[0m │\n",
       "├─────────────────────────────────┼────────────────────────┼───────────────┤\n",
       "│ dropout_42 (\u001b[38;5;33mDropout\u001b[0m)            │ (\u001b[38;5;45mNone\u001b[0m, \u001b[38;5;34m256\u001b[0m)            │             \u001b[38;5;34m0\u001b[0m │\n",
       "├─────────────────────────────────┼────────────────────────┼───────────────┤\n",
       "│ dense_76 (\u001b[38;5;33mDense\u001b[0m)                │ (\u001b[38;5;45mNone\u001b[0m, \u001b[38;5;34m128\u001b[0m)            │        \u001b[38;5;34m32,896\u001b[0m │\n",
       "├─────────────────────────────────┼────────────────────────┼───────────────┤\n",
       "│ dropout_43 (\u001b[38;5;33mDropout\u001b[0m)            │ (\u001b[38;5;45mNone\u001b[0m, \u001b[38;5;34m128\u001b[0m)            │             \u001b[38;5;34m0\u001b[0m │\n",
       "├─────────────────────────────────┼────────────────────────┼───────────────┤\n",
       "│ dense_77 (\u001b[38;5;33mDense\u001b[0m)                │ (\u001b[38;5;45mNone\u001b[0m, \u001b[38;5;34m10\u001b[0m)             │         \u001b[38;5;34m1,290\u001b[0m │\n",
       "└─────────────────────────────────┴────────────────────────┴───────────────┘\n"
      ]
     },
     "metadata": {},
     "output_type": "display_data"
    },
    {
     "data": {
      "text/html": [
       "<pre style=\"white-space:pre;overflow-x:auto;line-height:normal;font-family:Menlo,'DejaVu Sans Mono',consolas,'Courier New',monospace\"><span style=\"font-weight: bold\"> Total params: </span><span style=\"color: #00af00; text-decoration-color: #00af00\">850,586</span> (3.24 MB)\n",
       "</pre>\n"
      ],
      "text/plain": [
       "\u001b[1m Total params: \u001b[0m\u001b[38;5;34m850,586\u001b[0m (3.24 MB)\n"
      ]
     },
     "metadata": {},
     "output_type": "display_data"
    },
    {
     "data": {
      "text/html": [
       "<pre style=\"white-space:pre;overflow-x:auto;line-height:normal;font-family:Menlo,'DejaVu Sans Mono',consolas,'Courier New',monospace\"><span style=\"font-weight: bold\"> Trainable params: </span><span style=\"color: #00af00; text-decoration-color: #00af00\">850,586</span> (3.24 MB)\n",
       "</pre>\n"
      ],
      "text/plain": [
       "\u001b[1m Trainable params: \u001b[0m\u001b[38;5;34m850,586\u001b[0m (3.24 MB)\n"
      ]
     },
     "metadata": {},
     "output_type": "display_data"
    },
    {
     "data": {
      "text/html": [
       "<pre style=\"white-space:pre;overflow-x:auto;line-height:normal;font-family:Menlo,'DejaVu Sans Mono',consolas,'Courier New',monospace\"><span style=\"font-weight: bold\"> Non-trainable params: </span><span style=\"color: #00af00; text-decoration-color: #00af00\">0</span> (0.00 B)\n",
       "</pre>\n"
      ],
      "text/plain": [
       "\u001b[1m Non-trainable params: \u001b[0m\u001b[38;5;34m0\u001b[0m (0.00 B)\n"
      ]
     },
     "metadata": {},
     "output_type": "display_data"
    }
   ],
   "source": [
    "simple_nn.summary()"
   ]
  },
  {
   "cell_type": "markdown",
   "id": "28a1786a-4ef7-46a9-ab6a-d84841f904d2",
   "metadata": {},
   "source": [
    "Entrainement du modèle sur les données train. On utilise l'early stopping pour arrêter l'entrainement lorsque les performances se stabilisent. On choisi le modèle avec les meilleures performances."
   ]
  },
  {
   "cell_type": "code",
   "execution_count": 74,
   "id": "a5762b71-2997-4994-b0fd-4b72cb50ccdc",
   "metadata": {},
   "outputs": [],
   "source": [
    "from tensorflow.keras.callbacks import EarlyStopping\n",
    "early_stopping = EarlyStopping(monitor='val_loss', patience=3, restore_best_weights=True)"
   ]
  },
  {
   "cell_type": "code",
   "execution_count": 75,
   "id": "057f5405-0939-4a71-be8f-69a7344724d4",
   "metadata": {},
   "outputs": [
    {
     "name": "stdout",
     "output_type": "stream",
     "text": [
      "Epoch 1/20\n",
      "\u001b[1m600/600\u001b[0m \u001b[32m━━━━━━━━━━━━━━━━━━━━\u001b[0m\u001b[37m\u001b[0m \u001b[1m5s\u001b[0m 8ms/step - categorical_accuracy: 0.3947 - loss: 13.3417 - val_categorical_accuracy: 0.4129 - val_loss: 1.4917\n",
      "Epoch 2/20\n",
      "\u001b[1m600/600\u001b[0m \u001b[32m━━━━━━━━━━━━━━━━━━━━\u001b[0m\u001b[37m\u001b[0m \u001b[1m4s\u001b[0m 7ms/step - categorical_accuracy: 0.4012 - loss: 1.9749 - val_categorical_accuracy: 0.4530 - val_loss: 1.3280\n",
      "Epoch 3/20\n",
      "\u001b[1m600/600\u001b[0m \u001b[32m━━━━━━━━━━━━━━━━━━━━\u001b[0m\u001b[37m\u001b[0m \u001b[1m4s\u001b[0m 7ms/step - categorical_accuracy: 0.4267 - loss: 1.7066 - val_categorical_accuracy: 0.4680 - val_loss: 1.2181\n",
      "Epoch 4/20\n",
      "\u001b[1m600/600\u001b[0m \u001b[32m━━━━━━━━━━━━━━━━━━━━\u001b[0m\u001b[37m\u001b[0m \u001b[1m4s\u001b[0m 7ms/step - categorical_accuracy: 0.4592 - loss: 1.4412 - val_categorical_accuracy: 0.5748 - val_loss: 1.0957\n",
      "Epoch 5/20\n",
      "\u001b[1m600/600\u001b[0m \u001b[32m━━━━━━━━━━━━━━━━━━━━\u001b[0m\u001b[37m\u001b[0m \u001b[1m4s\u001b[0m 7ms/step - categorical_accuracy: 0.5520 - loss: 1.2745 - val_categorical_accuracy: 0.6457 - val_loss: 0.8588\n",
      "Epoch 6/20\n",
      "\u001b[1m600/600\u001b[0m \u001b[32m━━━━━━━━━━━━━━━━━━━━\u001b[0m\u001b[37m\u001b[0m \u001b[1m4s\u001b[0m 7ms/step - categorical_accuracy: 0.5839 - loss: 1.1939 - val_categorical_accuracy: 0.6328 - val_loss: 0.9129\n",
      "Epoch 7/20\n",
      "\u001b[1m600/600\u001b[0m \u001b[32m━━━━━━━━━━━━━━━━━━━━\u001b[0m\u001b[37m\u001b[0m \u001b[1m4s\u001b[0m 7ms/step - categorical_accuracy: 0.6146 - loss: 1.0840 - val_categorical_accuracy: 0.6961 - val_loss: 0.7774\n",
      "Epoch 8/20\n",
      "\u001b[1m600/600\u001b[0m \u001b[32m━━━━━━━━━━━━━━━━━━━━\u001b[0m\u001b[37m\u001b[0m \u001b[1m5s\u001b[0m 7ms/step - categorical_accuracy: 0.6295 - loss: 1.0462 - val_categorical_accuracy: 0.7121 - val_loss: 0.7596\n",
      "Epoch 9/20\n",
      "\u001b[1m600/600\u001b[0m \u001b[32m━━━━━━━━━━━━━━━━━━━━\u001b[0m\u001b[37m\u001b[0m \u001b[1m4s\u001b[0m 7ms/step - categorical_accuracy: 0.6479 - loss: 1.0149 - val_categorical_accuracy: 0.6562 - val_loss: 0.9046\n",
      "Epoch 10/20\n",
      "\u001b[1m600/600\u001b[0m \u001b[32m━━━━━━━━━━━━━━━━━━━━\u001b[0m\u001b[37m\u001b[0m \u001b[1m4s\u001b[0m 7ms/step - categorical_accuracy: 0.6583 - loss: 1.0231 - val_categorical_accuracy: 0.6719 - val_loss: 0.7495\n",
      "Epoch 11/20\n",
      "\u001b[1m600/600\u001b[0m \u001b[32m━━━━━━━━━━━━━━━━━━━━\u001b[0m\u001b[37m\u001b[0m \u001b[1m4s\u001b[0m 7ms/step - categorical_accuracy: 0.6617 - loss: 0.9417 - val_categorical_accuracy: 0.7120 - val_loss: 0.7116\n",
      "Epoch 12/20\n",
      "\u001b[1m600/600\u001b[0m \u001b[32m━━━━━━━━━━━━━━━━━━━━\u001b[0m\u001b[37m\u001b[0m \u001b[1m4s\u001b[0m 7ms/step - categorical_accuracy: 0.6709 - loss: 1.0083 - val_categorical_accuracy: 0.7234 - val_loss: 0.6924\n",
      "Epoch 13/20\n",
      "\u001b[1m600/600\u001b[0m \u001b[32m━━━━━━━━━━━━━━━━━━━━\u001b[0m\u001b[37m\u001b[0m \u001b[1m5s\u001b[0m 7ms/step - categorical_accuracy: 0.6823 - loss: 0.8809 - val_categorical_accuracy: 0.7275 - val_loss: 0.6940\n",
      "Epoch 14/20\n",
      "\u001b[1m600/600\u001b[0m \u001b[32m━━━━━━━━━━━━━━━━━━━━\u001b[0m\u001b[37m\u001b[0m \u001b[1m4s\u001b[0m 7ms/step - categorical_accuracy: 0.6775 - loss: 0.9201 - val_categorical_accuracy: 0.7098 - val_loss: 0.6931\n",
      "Epoch 15/20\n",
      "\u001b[1m600/600\u001b[0m \u001b[32m━━━━━━━━━━━━━━━━━━━━\u001b[0m\u001b[37m\u001b[0m \u001b[1m4s\u001b[0m 7ms/step - categorical_accuracy: 0.6922 - loss: 0.9873 - val_categorical_accuracy: 0.7180 - val_loss: 0.7174\n"
     ]
    }
   ],
   "source": [
    "history = simple_nn.fit(train_images_flat, y_train_oh, epochs=20, validation_data=(test_images_flat, y_test_oh), batch_size=100,  callbacks=[early_stopping])"
   ]
  },
  {
   "cell_type": "markdown",
   "id": "ce96016c-413d-478c-b2ae-bde84d47c3e9",
   "metadata": {},
   "source": [
    "On va visualiser les performances du modèle :"
   ]
  },
  {
   "cell_type": "code",
   "execution_count": 30,
   "id": "0a374a13-d1dc-4beb-8675-8c1d709dd826",
   "metadata": {},
   "outputs": [
    {
     "name": "stdout",
     "output_type": "stream",
     "text": [
      "Accuracy sur l'entraînement à la dernière époque: 0.6161333322525024\n",
      "Accuracy sur la validation à la dernière époque: 0.6998000144958496\n"
     ]
    }
   ],
   "source": [
    "# Afficher l'accuracy à la dernière époque d'entraînement\n",
    "train_accuracy = history.history['categorical_accuracy'][-1]\n",
    "print(f\"Accuracy sur l'entraînement à la dernière époque: {train_accuracy}\")\n",
    "\n",
    "#  afficher l'accuracy sur la validation\n",
    "val_accuracy = history.history['val_categorical_accuracy'][-1]\n",
    "print(f\"Accuracy sur la validation à la dernière époque: {val_accuracy}\")"
   ]
  },
  {
   "cell_type": "code",
   "execution_count": 25,
   "id": "74baa6e3-164a-4469-baa5-258989d37efc",
   "metadata": {},
   "outputs": [
    {
     "name": "stdout",
     "output_type": "stream",
     "text": [
      "dict_keys(['categorical_accuracy', 'loss', 'val_categorical_accuracy', 'val_loss'])\n"
     ]
    },
    {
     "data": {
      "image/png": "[encoded data removed]",
      "text/plain": [
       "<Figure size 640x480 with 1 Axes>"
      ]
     },
     "metadata": {},
     "output_type": "display_data"
    }
   ],
   "source": [
    "print(history.history.keys())\n",
    "plt.plot(history.history['categorical_accuracy'])\n",
    "plt.plot(history.history['val_categorical_accuracy'])\n",
    "plt.title('model accuracy')\n",
    "plt.ylabel('accuracy')\n",
    "plt.xlabel('epoch')\n",
    "plt.legend(['train', 'validation'], loc='upper left')\n",
    "plt.show()"
   ]
  },
  {
   "cell_type": "markdown",
   "id": "2aff85bb-95d3-4ec2-99d0-32e11c086db7",
   "metadata": {},
   "source": [
    "On remarque que les performances du modèle en validation sont meilleures qu'en entrainement."
   ]
  },
  {
   "cell_type": "code",
   "execution_count": 26,
   "id": "482ddb60-aef1-4ed7-bc3f-c2ee6539b47c",
   "metadata": {},
   "outputs": [
    {
     "data": {
      "text/plain": [
       "<matplotlib.legend.Legend at 0x177d0fdeb90>"
      ]
     },
     "execution_count": 26,
     "metadata": {},
     "output_type": "execute_result"
    },
    {
     "data": {
      "image/png": "[encoded data removed]",
      "text/plain": [
       "<Figure size 640x480 with 1 Axes>"
      ]
     },
     "metadata": {},
     "output_type": "display_data"
    }
   ],
   "source": [
    "plt.plot(history.history['loss'])\n",
    "plt.plot(history.history['val_loss'])\n",
    "plt.title('model loss')\n",
    "plt.ylabel('loss')\n",
    "plt.xlabel('epoch')\n",
    "plt.legend(['train', 'validation'], loc='upper left')"
   ]
  },
  {
   "cell_type": "markdown",
   "id": "a3aa4043-fc26-4323-8c45-e2c39bc5301a",
   "metadata": {},
   "source": [
    "On va prédire les données test pour les comparer avec le réseau CNN (voir dernière partie)"
   ]
  },
  {
   "cell_type": "code",
   "execution_count": 77,
   "id": "9125e89c-6a43-4535-9417-1e19a5bb8bb4",
   "metadata": {},
   "outputs": [
    {
     "name": "stdout",
     "output_type": "stream",
     "text": [
      "\u001b[1m313/313\u001b[0m \u001b[32m━━━━━━━━━━━━━━━━━━━━\u001b[0m\u001b[37m\u001b[0m \u001b[1m1s\u001b[0m 3ms/step\n"
     ]
    }
   ],
   "source": [
    "pred_Dense = simple_nn.predict(test_images_flat)"
   ]
  },
  {
   "cell_type": "markdown",
   "id": "a0834962-0085-48e3-9cea-aacc7048b026",
   "metadata": {},
   "source": [
    "On va effectuer une validation  de notre modèle avec k-fold cross validation pour avoir un point de vue plus robuste de sa performance."
   ]
  },
  {
   "cell_type": "code",
   "execution_count": 31,
   "id": "24ea5d36-4a4d-45db-a9cb-3cf66e6b8729",
   "metadata": {},
   "outputs": [],
   "source": [
    "from sklearn.model_selection import KFold"
   ]
  },
  {
   "cell_type": "code",
   "execution_count": 35,
   "id": "da07a2a2-5d1d-4b9b-8dc1-fa1d3613f714",
   "metadata": {},
   "outputs": [],
   "source": [
    "#Création d'une fonction qui retourne un modele :\n",
    "\n",
    "def create_model():\n",
    "    simple_nn = tf.keras.models.Sequential([\n",
    "    #Sequential : Enchainement des couches de manière séquentielle. Toutes les couches sont reliées les unes aux autres.\n",
    "\n",
    "    #Couche d'entrée\n",
    "    tf.keras.layers.Dense(units= train_images_flat.shape[1] , activation='relu', input_shape=(train_images_flat.shape[1],)),\n",
    "\n",
    "    #Premère couche cachée\n",
    "    tf.keras.layers.Dense(units=256, activation='relu'),\n",
    "    tf.keras.layers.Dropout(0.3),\n",
    "    \n",
    "    # Seconde couche cachée \n",
    "    tf.keras.layers.Dense(units=128, activation='relu'),\n",
    "    tf.keras.layers.Dropout(0.3),  \n",
    "    \n",
    "    # Couche de sortie\n",
    "    tf.keras.layers.Dense(units=10, activation=\"softmax\")\n",
    "])\n",
    "    simple_nn.compile(optimizer=tf.keras.optimizers.RMSprop(learning_rate=0.001),\n",
    "                  loss=tf.keras.losses.CategoricalCrossentropy(), #Classification multiclasse\n",
    "                  metrics=[tf.keras.metrics.CategoricalAccuracy()])\n",
    "\n",
    "    return simple_nn\n"
   ]
  },
  {
   "cell_type": "code",
   "execution_count": 44,
   "id": "73074072-2134-4aa5-8c44-7cd84c6361af",
   "metadata": {},
   "outputs": [
    {
     "name": "stdout",
     "output_type": "stream",
     "text": [
      "Training on fold 1...\n",
      "Epoch 1/10\n"
     ]
    },
    {
     "name": "stderr",
     "output_type": "stream",
     "text": [
      "C:\\Users\\Rose Tchala Sare\\anaconda3\\Lib\\site-packages\\keras\\src\\layers\\core\\dense.py:87: UserWarning: Do not pass an `input_shape`/`input_dim` argument to a layer. When using Sequential models, prefer using an `Input(shape)` object as the first layer in the model instead.\n",
      "  super().__init__(activity_regularizer=activity_regularizer, **kwargs)\n"
     ]
    },
    {
     "name": "stdout",
     "output_type": "stream",
     "text": [
      "\u001b[1m1500/1500\u001b[0m \u001b[32m━━━━━━━━━━━━━━━━━━━━\u001b[0m\u001b[37m\u001b[0m \u001b[1m9s\u001b[0m 5ms/step - categorical_accuracy: 0.2191 - loss: 11.2107 - val_categorical_accuracy: 0.2898 - val_loss: 1.8335\n",
      "Epoch 2/10\n",
      "\u001b[1m1500/1500\u001b[0m \u001b[32m━━━━━━━━━━━━━━━━━━━━\u001b[0m\u001b[37m\u001b[0m \u001b[1m8s\u001b[0m 5ms/step - categorical_accuracy: 0.2527 - loss: 2.1834 - val_categorical_accuracy: 0.2998 - val_loss: 1.8003\n",
      "Epoch 3/10\n",
      "\u001b[1m1500/1500\u001b[0m \u001b[32m━━━━━━━━━━━━━━━━━━━━\u001b[0m\u001b[37m\u001b[0m \u001b[1m8s\u001b[0m 5ms/step - categorical_accuracy: 0.2860 - loss: 2.2614 - val_categorical_accuracy: 0.3153 - val_loss: 1.7454\n",
      "Epoch 4/10\n",
      "\u001b[1m1500/1500\u001b[0m \u001b[32m━━━━━━━━━━━━━━━━━━━━\u001b[0m\u001b[37m\u001b[0m \u001b[1m8s\u001b[0m 5ms/step - categorical_accuracy: 0.3047 - loss: 2.2405 - val_categorical_accuracy: 0.3433 - val_loss: 1.6875\n",
      "Epoch 5/10\n",
      "\u001b[1m1500/1500\u001b[0m \u001b[32m━━━━━━━━━━━━━━━━━━━━\u001b[0m\u001b[37m\u001b[0m \u001b[1m8s\u001b[0m 6ms/step - categorical_accuracy: 0.3233 - loss: 2.3226 - val_categorical_accuracy: 0.3742 - val_loss: 1.5779\n",
      "Epoch 6/10\n",
      "\u001b[1m1500/1500\u001b[0m \u001b[32m━━━━━━━━━━━━━━━━━━━━\u001b[0m\u001b[37m\u001b[0m \u001b[1m8s\u001b[0m 6ms/step - categorical_accuracy: 0.3594 - loss: 2.0534 - val_categorical_accuracy: 0.4507 - val_loss: 1.4468\n",
      "Epoch 7/10\n",
      "\u001b[1m1500/1500\u001b[0m \u001b[32m━━━━━━━━━━━━━━━━━━━━\u001b[0m\u001b[37m\u001b[0m \u001b[1m8s\u001b[0m 6ms/step - categorical_accuracy: 0.3991 - loss: 2.0408 - val_categorical_accuracy: 0.5138 - val_loss: 1.2247\n",
      "Epoch 8/10\n",
      "\u001b[1m1500/1500\u001b[0m \u001b[32m━━━━━━━━━━━━━━━━━━━━\u001b[0m\u001b[37m\u001b[0m \u001b[1m8s\u001b[0m 5ms/step - categorical_accuracy: 0.4375 - loss: 1.7468 - val_categorical_accuracy: 0.5404 - val_loss: 1.1662\n",
      "Epoch 9/10\n",
      "\u001b[1m1500/1500\u001b[0m \u001b[32m━━━━━━━━━━━━━━━━━━━━\u001b[0m\u001b[37m\u001b[0m \u001b[1m8s\u001b[0m 6ms/step - categorical_accuracy: 0.4305 - loss: 1.6343 - val_categorical_accuracy: 0.5312 - val_loss: 1.2456\n",
      "Epoch 10/10\n",
      "\u001b[1m1500/1500\u001b[0m \u001b[32m━━━━━━━━━━━━━━━━━━━━\u001b[0m\u001b[37m\u001b[0m \u001b[1m8s\u001b[0m 5ms/step - categorical_accuracy: 0.3937 - loss: 2.1516 - val_categorical_accuracy: 0.4574 - val_loss: 1.2900\n",
      "Fold 1 - Validation Accuracy: 0.4574166536331177\n",
      "Training on fold 2...\n",
      "Epoch 1/10\n",
      "\u001b[1m1500/1500\u001b[0m \u001b[32m━━━━━━━━━━━━━━━━━━━━\u001b[0m\u001b[37m\u001b[0m \u001b[1m11s\u001b[0m 6ms/step - categorical_accuracy: 0.4541 - loss: 13.1926 - val_categorical_accuracy: 0.6539 - val_loss: 0.9574\n",
      "Epoch 2/10\n",
      "\u001b[1m1500/1500\u001b[0m \u001b[32m━━━━━━━━━━━━━━━━━━━━\u001b[0m\u001b[37m\u001b[0m \u001b[1m9s\u001b[0m 6ms/step - categorical_accuracy: 0.5529 - loss: 1.5479 - val_categorical_accuracy: 0.6263 - val_loss: 0.9402\n",
      "Epoch 3/10\n",
      "\u001b[1m1500/1500\u001b[0m \u001b[32m━━━━━━━━━━━━━━━━━━━━\u001b[0m\u001b[37m\u001b[0m \u001b[1m10s\u001b[0m 7ms/step - categorical_accuracy: 0.5951 - loss: 1.3697 - val_categorical_accuracy: 0.6240 - val_loss: 0.9243\n",
      "Epoch 4/10\n",
      "\u001b[1m1500/1500\u001b[0m \u001b[32m━━━━━━━━━━━━━━━━━━━━\u001b[0m\u001b[37m\u001b[0m \u001b[1m10s\u001b[0m 7ms/step - categorical_accuracy: 0.6113 - loss: 1.3098 - val_categorical_accuracy: 0.7203 - val_loss: 0.7370\n",
      "Epoch 5/10\n",
      "\u001b[1m1500/1500\u001b[0m \u001b[32m━━━━━━━━━━━━━━━━━━━━\u001b[0m\u001b[37m\u001b[0m \u001b[1m11s\u001b[0m 7ms/step - categorical_accuracy: 0.6394 - loss: 1.1664 - val_categorical_accuracy: 0.7013 - val_loss: 0.7402\n",
      "Epoch 6/10\n",
      "\u001b[1m1500/1500\u001b[0m \u001b[32m━━━━━━━━━━━━━━━━━━━━\u001b[0m\u001b[37m\u001b[0m \u001b[1m10s\u001b[0m 7ms/step - categorical_accuracy: 0.6443 - loss: 1.1895 - val_categorical_accuracy: 0.7265 - val_loss: 0.7045\n",
      "Epoch 7/10\n",
      "\u001b[1m1500/1500\u001b[0m \u001b[32m━━━━━━━━━━━━━━━━━━━━\u001b[0m\u001b[37m\u001b[0m \u001b[1m9s\u001b[0m 6ms/step - categorical_accuracy: 0.6543 - loss: 1.1132 - val_categorical_accuracy: 0.7237 - val_loss: 0.7515\n",
      "Epoch 8/10\n",
      "\u001b[1m1500/1500\u001b[0m \u001b[32m━━━━━━━━━━━━━━━━━━━━\u001b[0m\u001b[37m\u001b[0m \u001b[1m9s\u001b[0m 6ms/step - categorical_accuracy: 0.6518 - loss: 1.1823 - val_categorical_accuracy: 0.7145 - val_loss: 0.7840\n",
      "Epoch 9/10\n",
      "\u001b[1m1500/1500\u001b[0m \u001b[32m━━━━━━━━━━━━━━━━━━━━\u001b[0m\u001b[37m\u001b[0m \u001b[1m9s\u001b[0m 6ms/step - categorical_accuracy: 0.6566 - loss: 1.1784 - val_categorical_accuracy: 0.7311 - val_loss: 0.8005\n",
      "Epoch 10/10\n",
      "\u001b[1m1500/1500\u001b[0m \u001b[32m━━━━━━━━━━━━━━━━━━━━\u001b[0m\u001b[37m\u001b[0m \u001b[1m9s\u001b[0m 6ms/step - categorical_accuracy: 0.6581 - loss: 1.1914 - val_categorical_accuracy: 0.7072 - val_loss: 0.7965\n",
      "Fold 2 - Validation Accuracy: 0.7071666717529297\n",
      "Training on fold 3...\n",
      "Epoch 1/10\n",
      "\u001b[1m1500/1500\u001b[0m \u001b[32m━━━━━━━━━━━━━━━━━━━━\u001b[0m\u001b[37m\u001b[0m \u001b[1m11s\u001b[0m 7ms/step - categorical_accuracy: 0.5432 - loss: 12.7655 - val_categorical_accuracy: 0.7103 - val_loss: 0.7630\n",
      "Epoch 2/10\n",
      "\u001b[1m1500/1500\u001b[0m \u001b[32m━━━━━━━━━━━━━━━━━━━━\u001b[0m\u001b[37m\u001b[0m \u001b[1m10s\u001b[0m 6ms/step - categorical_accuracy: 0.6487 - loss: 1.1690 - val_categorical_accuracy: 0.6840 - val_loss: 0.8149\n",
      "Epoch 3/10\n",
      "\u001b[1m1500/1500\u001b[0m \u001b[32m━━━━━━━━━━━━━━━━━━━━\u001b[0m\u001b[37m\u001b[0m \u001b[1m10s\u001b[0m 6ms/step - categorical_accuracy: 0.6681 - loss: 1.1390 - val_categorical_accuracy: 0.7766 - val_loss: 0.8555\n",
      "Epoch 4/10\n",
      "\u001b[1m1500/1500\u001b[0m \u001b[32m━━━━━━━━━━━━━━━━━━━━\u001b[0m\u001b[37m\u001b[0m \u001b[1m10s\u001b[0m 7ms/step - categorical_accuracy: 0.6654 - loss: 1.2059 - val_categorical_accuracy: 0.7214 - val_loss: 0.8100\n",
      "Epoch 5/10\n",
      "\u001b[1m1500/1500\u001b[0m \u001b[32m━━━━━━━━━━━━━━━━━━━━\u001b[0m\u001b[37m\u001b[0m \u001b[1m10s\u001b[0m 6ms/step - categorical_accuracy: 0.6571 - loss: 1.2477 - val_categorical_accuracy: 0.6684 - val_loss: 1.0621\n",
      "Epoch 6/10\n",
      "\u001b[1m1500/1500\u001b[0m \u001b[32m━━━━━━━━━━━━━━━━━━━━\u001b[0m\u001b[37m\u001b[0m \u001b[1m10s\u001b[0m 6ms/step - categorical_accuracy: 0.6502 - loss: 1.3165 - val_categorical_accuracy: 0.6722 - val_loss: 1.2101\n",
      "Epoch 7/10\n",
      "\u001b[1m1500/1500\u001b[0m \u001b[32m━━━━━━━━━━━━━━━━━━━━\u001b[0m\u001b[37m\u001b[0m \u001b[1m10s\u001b[0m 7ms/step - categorical_accuracy: 0.6265 - loss: 1.4741 - val_categorical_accuracy: 0.6257 - val_loss: 1.1141\n",
      "Epoch 8/10\n",
      "\u001b[1m1500/1500\u001b[0m \u001b[32m━━━━━━━━━━━━━━━━━━━━\u001b[0m\u001b[37m\u001b[0m \u001b[1m10s\u001b[0m 7ms/step - categorical_accuracy: 0.5997 - loss: 1.5384 - val_categorical_accuracy: 0.5973 - val_loss: 1.2166\n",
      "Epoch 9/10\n",
      "\u001b[1m1500/1500\u001b[0m \u001b[32m━━━━━━━━━━━━━━━━━━━━\u001b[0m\u001b[37m\u001b[0m \u001b[1m10s\u001b[0m 7ms/step - categorical_accuracy: 0.5736 - loss: 1.5050 - val_categorical_accuracy: 0.6287 - val_loss: 1.2292\n",
      "Epoch 10/10\n",
      "\u001b[1m1500/1500\u001b[0m \u001b[32m━━━━━━━━━━━━━━━━━━━━\u001b[0m\u001b[37m\u001b[0m \u001b[1m10s\u001b[0m 7ms/step - categorical_accuracy: 0.5359 - loss: 1.7511 - val_categorical_accuracy: 0.5769 - val_loss: 1.2429\n",
      "Fold 3 - Validation Accuracy: 0.5769166946411133\n",
      "Training on fold 4...\n",
      "Epoch 1/10\n",
      "\u001b[1m1500/1500\u001b[0m \u001b[32m━━━━━━━━━━━━━━━━━━━━\u001b[0m\u001b[37m\u001b[0m \u001b[1m11s\u001b[0m 7ms/step - categorical_accuracy: 0.4983 - loss: 12.8193 - val_categorical_accuracy: 0.6479 - val_loss: 1.1966\n",
      "Epoch 2/10\n",
      "\u001b[1m1500/1500\u001b[0m \u001b[32m━━━━━━━━━━━━━━━━━━━━\u001b[0m\u001b[37m\u001b[0m \u001b[1m10s\u001b[0m 7ms/step - categorical_accuracy: 0.5854 - loss: 1.3143 - val_categorical_accuracy: 0.7067 - val_loss: 0.8047\n",
      "Epoch 3/10\n",
      "\u001b[1m1500/1500\u001b[0m \u001b[32m━━━━━━━━━━━━━━━━━━━━\u001b[0m\u001b[37m\u001b[0m \u001b[1m10s\u001b[0m 7ms/step - categorical_accuracy: 0.6419 - loss: 1.0919 - val_categorical_accuracy: 0.6526 - val_loss: 0.9813\n",
      "Epoch 4/10\n",
      "\u001b[1m1500/1500\u001b[0m \u001b[32m━━━━━━━━━━━━━━━━━━━━\u001b[0m\u001b[37m\u001b[0m \u001b[1m9s\u001b[0m 6ms/step - categorical_accuracy: 0.6614 - loss: 0.9943 - val_categorical_accuracy: 0.7437 - val_loss: 0.7251\n",
      "Epoch 5/10\n",
      "\u001b[1m1500/1500\u001b[0m \u001b[32m━━━━━━━━━━━━━━━━━━━━\u001b[0m\u001b[37m\u001b[0m \u001b[1m10s\u001b[0m 6ms/step - categorical_accuracy: 0.6621 - loss: 0.9568 - val_categorical_accuracy: 0.7562 - val_loss: 0.7546\n",
      "Epoch 6/10\n",
      "\u001b[1m1500/1500\u001b[0m \u001b[32m━━━━━━━━━━━━━━━━━━━━\u001b[0m\u001b[37m\u001b[0m \u001b[1m10s\u001b[0m 7ms/step - categorical_accuracy: 0.6647 - loss: 0.9930 - val_categorical_accuracy: 0.7261 - val_loss: 0.7515\n",
      "Epoch 7/10\n",
      "\u001b[1m1500/1500\u001b[0m \u001b[32m━━━━━━━━━━━━━━━━━━━━\u001b[0m\u001b[37m\u001b[0m \u001b[1m10s\u001b[0m 7ms/step - categorical_accuracy: 0.6777 - loss: 1.0422 - val_categorical_accuracy: 0.7004 - val_loss: 0.8379\n",
      "Epoch 8/10\n",
      "\u001b[1m1500/1500\u001b[0m \u001b[32m━━━━━━━━━━━━━━━━━━━━\u001b[0m\u001b[37m\u001b[0m \u001b[1m9s\u001b[0m 6ms/step - categorical_accuracy: 0.6737 - loss: 0.9852 - val_categorical_accuracy: 0.6823 - val_loss: 1.4325\n",
      "Epoch 9/10\n",
      "\u001b[1m1500/1500\u001b[0m \u001b[32m━━━━━━━━━━━━━━━━━━━━\u001b[0m\u001b[37m\u001b[0m \u001b[1m10s\u001b[0m 6ms/step - categorical_accuracy: 0.6773 - loss: 1.0668 - val_categorical_accuracy: 0.7468 - val_loss: 0.7893\n",
      "Epoch 10/10\n",
      "\u001b[1m1500/1500\u001b[0m \u001b[32m━━━━━━━━━━━━━━━━━━━━\u001b[0m\u001b[37m\u001b[0m \u001b[1m9s\u001b[0m 6ms/step - categorical_accuracy: 0.6838 - loss: 0.9751 - val_categorical_accuracy: 0.7262 - val_loss: 0.9203\n",
      "Fold 4 - Validation Accuracy: 0.7261666655540466\n",
      "Training on fold 5...\n",
      "Epoch 1/10\n",
      "\u001b[1m1500/1500\u001b[0m \u001b[32m━━━━━━━━━━━━━━━━━━━━\u001b[0m\u001b[37m\u001b[0m \u001b[1m10s\u001b[0m 6ms/step - categorical_accuracy: 0.5509 - loss: 13.2236 - val_categorical_accuracy: 0.7180 - val_loss: 0.7517\n",
      "Epoch 2/10\n",
      "\u001b[1m1500/1500\u001b[0m \u001b[32m━━━━━━━━━━━━━━━━━━━━\u001b[0m\u001b[37m\u001b[0m \u001b[1m9s\u001b[0m 6ms/step - categorical_accuracy: 0.6794 - loss: 1.0421 - val_categorical_accuracy: 0.7130 - val_loss: 0.7809\n",
      "Epoch 3/10\n",
      "\u001b[1m1500/1500\u001b[0m \u001b[32m━━━━━━━━━━━━━━━━━━━━\u001b[0m\u001b[37m\u001b[0m \u001b[1m10s\u001b[0m 6ms/step - categorical_accuracy: 0.6866 - loss: 1.0481 - val_categorical_accuracy: 0.7067 - val_loss: 0.8829\n",
      "Epoch 4/10\n",
      "\u001b[1m1500/1500\u001b[0m \u001b[32m━━━━━━━━━━━━━━━━━━━━\u001b[0m\u001b[37m\u001b[0m \u001b[1m9s\u001b[0m 6ms/step - categorical_accuracy: 0.6837 - loss: 1.1077 - val_categorical_accuracy: 0.7413 - val_loss: 0.8951\n",
      "Epoch 5/10\n",
      "\u001b[1m1500/1500\u001b[0m \u001b[32m━━━━━━━━━━━━━━━━━━━━\u001b[0m\u001b[37m\u001b[0m \u001b[1m10s\u001b[0m 6ms/step - categorical_accuracy: 0.6743 - loss: 1.1638 - val_categorical_accuracy: 0.7274 - val_loss: 0.9421\n",
      "Epoch 6/10\n",
      "\u001b[1m1500/1500\u001b[0m \u001b[32m━━━━━━━━━━━━━━━━━━━━\u001b[0m\u001b[37m\u001b[0m \u001b[1m9s\u001b[0m 6ms/step - categorical_accuracy: 0.6680 - loss: 1.2167 - val_categorical_accuracy: 0.7117 - val_loss: 1.0027\n",
      "Epoch 7/10\n",
      "\u001b[1m1500/1500\u001b[0m \u001b[32m━━━━━━━━━━━━━━━━━━━━\u001b[0m\u001b[37m\u001b[0m \u001b[1m9s\u001b[0m 6ms/step - categorical_accuracy: 0.6317 - loss: 1.3352 - val_categorical_accuracy: 0.6523 - val_loss: 1.0516\n",
      "Epoch 8/10\n",
      "\u001b[1m1500/1500\u001b[0m \u001b[32m━━━━━━━━━━━━━━━━━━━━\u001b[0m\u001b[37m\u001b[0m \u001b[1m10s\u001b[0m 6ms/step - categorical_accuracy: 0.6201 - loss: 1.4174 - val_categorical_accuracy: 0.6421 - val_loss: 1.1370\n",
      "Epoch 9/10\n",
      "\u001b[1m1500/1500\u001b[0m \u001b[32m━━━━━━━━━━━━━━━━━━━━\u001b[0m\u001b[37m\u001b[0m \u001b[1m10s\u001b[0m 7ms/step - categorical_accuracy: 0.5804 - loss: 1.4976 - val_categorical_accuracy: 0.6731 - val_loss: 1.4072\n",
      "Epoch 10/10\n",
      "\u001b[1m1500/1500\u001b[0m \u001b[32m━━━━━━━━━━━━━━━━━━━━\u001b[0m\u001b[37m\u001b[0m \u001b[1m10s\u001b[0m 7ms/step - categorical_accuracy: 0.5844 - loss: 1.5093 - val_categorical_accuracy: 0.6337 - val_loss: 1.4703\n",
      "Fold 5 - Validation Accuracy: 0.6336666941642761\n",
      "Average Validation Accuracy: 0.6202666759490967\n"
     ]
    }
   ],
   "source": [
    "from sklearn.model_selection import KFold\n",
    "import numpy as np\n",
    "\n",
    "# Paramètres\n",
    "n_splits = 5  # Nombre de splits dans le K-Fold\n",
    "epochs = 10  # Nombre d'époques d'entraînement pour chaque fold\n",
    "\n",
    "# Initialiser KFold\n",
    "kf = KFold(n_splits=n_splits, shuffle=True, random_state=42)\n",
    "\n",
    "#On va garder les résultats de chaque fold\n",
    "fold_no = 1\n",
    "fold_accuracies = []\n",
    "\n",
    "# Boucle sur chaque split du KFold\n",
    "for train_index, val_index in kf.split(train_images_flat):  # Utiliser les données aplaties pour KFold\n",
    "    \n",
    "    print(f'Training on fold {fold_no}...')\n",
    "    \n",
    "    # Créer le modèle pour ce fold (Supposons que la fonction create_model est définie)\n",
    "    model = create_model()\n",
    "    \n",
    "    # Diviser les données en train et validation pour ce fold\n",
    "    X_train, X_val = train_images_flat[train_index], train_images_flat[val_index]\n",
    "\n",
    "    y_train_oh_np = pd.get_dummies(train_labels).values  # .values convertit en Numpy array\n",
    "\n",
    "    y_train, y_val = y_train_oh_np[train_index], y_train_oh_np[val_index]\n",
    "    \n",
    "    # Entraîner le modèle\n",
    "    history = model.fit(X_train, y_train, epochs=epochs, validation_data=(X_val, y_val))\n",
    "    \n",
    "    # Évaluer la précision sur les données de validation\n",
    "    val_loss, val_acc = model.evaluate(X_val, y_val, verbose=0)\n",
    "    print(f'Fold {fold_no} - Validation Accuracy: {val_acc}')\n",
    "    \n",
    "    # Stocker la précision pour ce fold\n",
    "    fold_accuracies.append(val_acc)\n",
    "    \n",
    "    fold_no += 1\n",
    "\n",
    "# Moyenne des précisions sur les folds\n",
    "print(f'Average Validation Accuracy: {np.mean(fold_accuracies)}')\n",
    "print(f'Standard Deviation of accuracy: {np.std(fold_accuracies)}')\n",
    "\n"
   ]
  },
  {
   "cell_type": "markdown",
   "id": "9007638e-c05b-4e71-99e5-a76ff13f1084",
   "metadata": {},
   "source": [
    "En moyenne, le modèle obtient une précision de 62% sur des données de validation non vues. Cependant, entre les folds on remarque une certaine variance (45%-72%). Cela signifique que la performance de notre modèle varie fortement selon les données d'entrainement utilisées. Ce modèle n'est pas vraiment stable."
   ]
  },
  {
   "cell_type": "markdown",
   "id": "97002f41-6707-484e-8236-eb06e16f2680",
   "metadata": {},
   "source": [
    "##### CNN"
   ]
  },
  {
   "cell_type": "markdown",
   "id": "24c1d9d1-f6bf-4b6a-83bd-2ab4a0f47542",
   "metadata": {},
   "source": [
    "Pour le premier modèle j'ajoute une seule couche convolutionelle avec 32 filters (pour capture les caractéristiques de bas niveau comme les bords, les textures)"
   ]
  },
  {
   "cell_type": "code",
   "execution_count": 48,
   "id": "e4c55e2d-fec6-48af-be3a-7a98e043522b",
   "metadata": {},
   "outputs": [
    {
     "name": "stderr",
     "output_type": "stream",
     "text": [
      "C:\\Users\\Rose Tchala Sare\\anaconda3\\Lib\\site-packages\\keras\\src\\layers\\core\\input_layer.py:26: UserWarning: Argument `input_shape` is deprecated. Use `shape` instead.\n",
      "  warnings.warn(\n"
     ]
    }
   ],
   "source": [
    "simple_nn = tf.keras.models.Sequential([\n",
    "    #Sequential : Enchainement des couches de manière séquentielle. Toutes les couches sont reliées les unes aux autres.\n",
    "\n",
    "    # #Couche d'entrée\n",
    "    tf.keras.layers.InputLayer(input_shape=(28, 28, 1)),\n",
    "\n",
    "    #Premère couche convolutionelle\n",
    "    tf.keras.layers.Conv2D(filters=32, kernel_size=(3, 3), activation='relu'),\n",
    "    tf.keras.layers.MaxPooling2D(pool_size=(2, 2)),\n",
    "\n",
    "    #Applatissement de l'image pour les couches denses\n",
    "    tf.keras.layers.Flatten(),\n",
    "\n",
    "    #Premère couche cachée\n",
    "    tf.keras.layers.Dense(units=256, activation='relu'),\n",
    "    tf.keras.layers.Dropout(0.3),\n",
    "    \n",
    "    # Seconde couche cachée \n",
    "    tf.keras.layers.Dense(units=128, activation='relu'),\n",
    "    tf.keras.layers.Dropout(0.3),  \n",
    "    \n",
    "    # Couche de sortie\n",
    "    tf.keras.layers.Dense(units=10, activation=\"softmax\")\n",
    "])\n",
    "\n",
    "#Compilation du modèle\n",
    "simple_nn.compile(optimizer=tf.keras.optimizers.RMSprop(learning_rate=0.001),\n",
    "                  loss=tf.keras.losses.CategoricalCrossentropy(), #Classification multiclasse\n",
    "                  metrics=[tf.keras.metrics.CategoricalAccuracy()])\n"
   ]
  },
  {
   "cell_type": "code",
   "execution_count": 49,
   "id": "7275e499-b439-4699-92d6-3cfe89195dfe",
   "metadata": {},
   "outputs": [
    {
     "data": {
      "text/html": [
       "<pre style=\"white-space:pre;overflow-x:auto;line-height:normal;font-family:Menlo,'DejaVu Sans Mono',consolas,'Courier New',monospace\"><span style=\"font-weight: bold\">Model: \"sequential_12\"</span>\n",
       "</pre>\n"
      ],
      "text/plain": [
       "\u001b[1mModel: \"sequential_12\"\u001b[0m\n"
      ]
     },
     "metadata": {},
     "output_type": "display_data"
    },
    {
     "data": {
      "text/html": [
       "<pre style=\"white-space:pre;overflow-x:auto;line-height:normal;font-family:Menlo,'DejaVu Sans Mono',consolas,'Courier New',monospace\">┏━━━━━━━━━━━━━━━━━━━━━━━━━━━━━━━━━┳━━━━━━━━━━━━━━━━━━━━━━━━┳━━━━━━━━━━━━━━━┓\n",
       "┃<span style=\"font-weight: bold\"> Layer (type)                    </span>┃<span style=\"font-weight: bold\"> Output Shape           </span>┃<span style=\"font-weight: bold\">       Param # </span>┃\n",
       "┡━━━━━━━━━━━━━━━━━━━━━━━━━━━━━━━━━╇━━━━━━━━━━━━━━━━━━━━━━━━╇━━━━━━━━━━━━━━━┩\n",
       "│ conv2d_1 (<span style=\"color: #0087ff; text-decoration-color: #0087ff\">Conv2D</span>)               │ (<span style=\"color: #00d7ff; text-decoration-color: #00d7ff\">None</span>, <span style=\"color: #00af00; text-decoration-color: #00af00\">26</span>, <span style=\"color: #00af00; text-decoration-color: #00af00\">26</span>, <span style=\"color: #00af00; text-decoration-color: #00af00\">32</span>)     │           <span style=\"color: #00af00; text-decoration-color: #00af00\">320</span> │\n",
       "├─────────────────────────────────┼────────────────────────┼───────────────┤\n",
       "│ max_pooling2d_1 (<span style=\"color: #0087ff; text-decoration-color: #0087ff\">MaxPooling2D</span>)  │ (<span style=\"color: #00d7ff; text-decoration-color: #00d7ff\">None</span>, <span style=\"color: #00af00; text-decoration-color: #00af00\">13</span>, <span style=\"color: #00af00; text-decoration-color: #00af00\">13</span>, <span style=\"color: #00af00; text-decoration-color: #00af00\">32</span>)     │             <span style=\"color: #00af00; text-decoration-color: #00af00\">0</span> │\n",
       "├─────────────────────────────────┼────────────────────────┼───────────────┤\n",
       "│ flatten_1 (<span style=\"color: #0087ff; text-decoration-color: #0087ff\">Flatten</span>)             │ (<span style=\"color: #00d7ff; text-decoration-color: #00d7ff\">None</span>, <span style=\"color: #00af00; text-decoration-color: #00af00\">5408</span>)           │             <span style=\"color: #00af00; text-decoration-color: #00af00\">0</span> │\n",
       "├─────────────────────────────────┼────────────────────────┼───────────────┤\n",
       "│ dense_47 (<span style=\"color: #0087ff; text-decoration-color: #0087ff\">Dense</span>)                │ (<span style=\"color: #00d7ff; text-decoration-color: #00d7ff\">None</span>, <span style=\"color: #00af00; text-decoration-color: #00af00\">256</span>)            │     <span style=\"color: #00af00; text-decoration-color: #00af00\">1,384,704</span> │\n",
       "├─────────────────────────────────┼────────────────────────┼───────────────┤\n",
       "│ dropout_24 (<span style=\"color: #0087ff; text-decoration-color: #0087ff\">Dropout</span>)            │ (<span style=\"color: #00d7ff; text-decoration-color: #00d7ff\">None</span>, <span style=\"color: #00af00; text-decoration-color: #00af00\">256</span>)            │             <span style=\"color: #00af00; text-decoration-color: #00af00\">0</span> │\n",
       "├─────────────────────────────────┼────────────────────────┼───────────────┤\n",
       "│ dense_48 (<span style=\"color: #0087ff; text-decoration-color: #0087ff\">Dense</span>)                │ (<span style=\"color: #00d7ff; text-decoration-color: #00d7ff\">None</span>, <span style=\"color: #00af00; text-decoration-color: #00af00\">128</span>)            │        <span style=\"color: #00af00; text-decoration-color: #00af00\">32,896</span> │\n",
       "├─────────────────────────────────┼────────────────────────┼───────────────┤\n",
       "│ dropout_25 (<span style=\"color: #0087ff; text-decoration-color: #0087ff\">Dropout</span>)            │ (<span style=\"color: #00d7ff; text-decoration-color: #00d7ff\">None</span>, <span style=\"color: #00af00; text-decoration-color: #00af00\">128</span>)            │             <span style=\"color: #00af00; text-decoration-color: #00af00\">0</span> │\n",
       "├─────────────────────────────────┼────────────────────────┼───────────────┤\n",
       "│ dense_49 (<span style=\"color: #0087ff; text-decoration-color: #0087ff\">Dense</span>)                │ (<span style=\"color: #00d7ff; text-decoration-color: #00d7ff\">None</span>, <span style=\"color: #00af00; text-decoration-color: #00af00\">10</span>)             │         <span style=\"color: #00af00; text-decoration-color: #00af00\">1,290</span> │\n",
       "└─────────────────────────────────┴────────────────────────┴───────────────┘\n",
       "</pre>\n"
      ],
      "text/plain": [
       "┏━━━━━━━━━━━━━━━━━━━━━━━━━━━━━━━━━┳━━━━━━━━━━━━━━━━━━━━━━━━┳━━━━━━━━━━━━━━━┓\n",
       "┃\u001b[1m \u001b[0m\u001b[1mLayer (type)                   \u001b[0m\u001b[1m \u001b[0m┃\u001b[1m \u001b[0m\u001b[1mOutput Shape          \u001b[0m\u001b[1m \u001b[0m┃\u001b[1m \u001b[0m\u001b[1m      Param #\u001b[0m\u001b[1m \u001b[0m┃\n",
       "┡━━━━━━━━━━━━━━━━━━━━━━━━━━━━━━━━━╇━━━━━━━━━━━━━━━━━━━━━━━━╇━━━━━━━━━━━━━━━┩\n",
       "│ conv2d_1 (\u001b[38;5;33mConv2D\u001b[0m)               │ (\u001b[38;5;45mNone\u001b[0m, \u001b[38;5;34m26\u001b[0m, \u001b[38;5;34m26\u001b[0m, \u001b[38;5;34m32\u001b[0m)     │           \u001b[38;5;34m320\u001b[0m │\n",
       "├─────────────────────────────────┼────────────────────────┼───────────────┤\n",
       "│ max_pooling2d_1 (\u001b[38;5;33mMaxPooling2D\u001b[0m)  │ (\u001b[38;5;45mNone\u001b[0m, \u001b[38;5;34m13\u001b[0m, \u001b[38;5;34m13\u001b[0m, \u001b[38;5;34m32\u001b[0m)     │             \u001b[38;5;34m0\u001b[0m │\n",
       "├─────────────────────────────────┼────────────────────────┼───────────────┤\n",
       "│ flatten_1 (\u001b[38;5;33mFlatten\u001b[0m)             │ (\u001b[38;5;45mNone\u001b[0m, \u001b[38;5;34m5408\u001b[0m)           │             \u001b[38;5;34m0\u001b[0m │\n",
       "├─────────────────────────────────┼────────────────────────┼───────────────┤\n",
       "│ dense_47 (\u001b[38;5;33mDense\u001b[0m)                │ (\u001b[38;5;45mNone\u001b[0m, \u001b[38;5;34m256\u001b[0m)            │     \u001b[38;5;34m1,384,704\u001b[0m │\n",
       "├─────────────────────────────────┼────────────────────────┼───────────────┤\n",
       "│ dropout_24 (\u001b[38;5;33mDropout\u001b[0m)            │ (\u001b[38;5;45mNone\u001b[0m, \u001b[38;5;34m256\u001b[0m)            │             \u001b[38;5;34m0\u001b[0m │\n",
       "├─────────────────────────────────┼────────────────────────┼───────────────┤\n",
       "│ dense_48 (\u001b[38;5;33mDense\u001b[0m)                │ (\u001b[38;5;45mNone\u001b[0m, \u001b[38;5;34m128\u001b[0m)            │        \u001b[38;5;34m32,896\u001b[0m │\n",
       "├─────────────────────────────────┼────────────────────────┼───────────────┤\n",
       "│ dropout_25 (\u001b[38;5;33mDropout\u001b[0m)            │ (\u001b[38;5;45mNone\u001b[0m, \u001b[38;5;34m128\u001b[0m)            │             \u001b[38;5;34m0\u001b[0m │\n",
       "├─────────────────────────────────┼────────────────────────┼───────────────┤\n",
       "│ dense_49 (\u001b[38;5;33mDense\u001b[0m)                │ (\u001b[38;5;45mNone\u001b[0m, \u001b[38;5;34m10\u001b[0m)             │         \u001b[38;5;34m1,290\u001b[0m │\n",
       "└─────────────────────────────────┴────────────────────────┴───────────────┘\n"
      ]
     },
     "metadata": {},
     "output_type": "display_data"
    },
    {
     "data": {
      "text/html": [
       "<pre style=\"white-space:pre;overflow-x:auto;line-height:normal;font-family:Menlo,'DejaVu Sans Mono',consolas,'Courier New',monospace\"><span style=\"font-weight: bold\"> Total params: </span><span style=\"color: #00af00; text-decoration-color: #00af00\">1,419,210</span> (5.41 MB)\n",
       "</pre>\n"
      ],
      "text/plain": [
       "\u001b[1m Total params: \u001b[0m\u001b[38;5;34m1,419,210\u001b[0m (5.41 MB)\n"
      ]
     },
     "metadata": {},
     "output_type": "display_data"
    },
    {
     "data": {
      "text/html": [
       "<pre style=\"white-space:pre;overflow-x:auto;line-height:normal;font-family:Menlo,'DejaVu Sans Mono',consolas,'Courier New',monospace\"><span style=\"font-weight: bold\"> Trainable params: </span><span style=\"color: #00af00; text-decoration-color: #00af00\">1,419,210</span> (5.41 MB)\n",
       "</pre>\n"
      ],
      "text/plain": [
       "\u001b[1m Trainable params: \u001b[0m\u001b[38;5;34m1,419,210\u001b[0m (5.41 MB)\n"
      ]
     },
     "metadata": {},
     "output_type": "display_data"
    },
    {
     "data": {
      "text/html": [
       "<pre style=\"white-space:pre;overflow-x:auto;line-height:normal;font-family:Menlo,'DejaVu Sans Mono',consolas,'Courier New',monospace\"><span style=\"font-weight: bold\"> Non-trainable params: </span><span style=\"color: #00af00; text-decoration-color: #00af00\">0</span> (0.00 B)\n",
       "</pre>\n"
      ],
      "text/plain": [
       "\u001b[1m Non-trainable params: \u001b[0m\u001b[38;5;34m0\u001b[0m (0.00 B)\n"
      ]
     },
     "metadata": {},
     "output_type": "display_data"
    }
   ],
   "source": [
    "simple_nn.summary()"
   ]
  },
  {
   "cell_type": "markdown",
   "id": "66bcdbae-6de6-4e48-b8a6-7982cb75dfac",
   "metadata": {},
   "source": [
    "Comme on utilise un réseau de neurones convolutionnel, on utiliser les images comme elles sont données dans le jeu de donnée. Il n'y a pas besoin de les applatir puisqu'elles sont traitées directement en tant que matrice 28*28."
   ]
  },
  {
   "cell_type": "code",
   "execution_count": 50,
   "id": "abb793f4-41b3-415e-b26b-10db45ef4850",
   "metadata": {},
   "outputs": [
    {
     "name": "stdout",
     "output_type": "stream",
     "text": [
      "Epoch 1/20\n",
      "\u001b[1m600/600\u001b[0m \u001b[32m━━━━━━━━━━━━━━━━━━━━\u001b[0m\u001b[37m\u001b[0m \u001b[1m12s\u001b[0m 18ms/step - categorical_accuracy: 0.6699 - loss: 10.8726 - val_categorical_accuracy: 0.8684 - val_loss: 0.3760\n",
      "Epoch 2/20\n",
      "\u001b[1m600/600\u001b[0m \u001b[32m━━━━━━━━━━━━━━━━━━━━\u001b[0m\u001b[37m\u001b[0m \u001b[1m11s\u001b[0m 18ms/step - categorical_accuracy: 0.8732 - loss: 0.3637 - val_categorical_accuracy: 0.8797 - val_loss: 0.3570\n",
      "Epoch 3/20\n",
      "\u001b[1m600/600\u001b[0m \u001b[32m━━━━━━━━━━━━━━━━━━━━\u001b[0m\u001b[37m\u001b[0m \u001b[1m11s\u001b[0m 18ms/step - categorical_accuracy: 0.8927 - loss: 0.3110 - val_categorical_accuracy: 0.8916 - val_loss: 0.3250\n",
      "Epoch 4/20\n",
      "\u001b[1m600/600\u001b[0m \u001b[32m━━━━━━━━━━━━━━━━━━━━\u001b[0m\u001b[37m\u001b[0m \u001b[1m11s\u001b[0m 18ms/step - categorical_accuracy: 0.9002 - loss: 0.2885 - val_categorical_accuracy: 0.8724 - val_loss: 0.3932\n",
      "Epoch 5/20\n",
      "\u001b[1m600/600\u001b[0m \u001b[32m━━━━━━━━━━━━━━━━━━━━\u001b[0m\u001b[37m\u001b[0m \u001b[1m11s\u001b[0m 18ms/step - categorical_accuracy: 0.9039 - loss: 0.2786 - val_categorical_accuracy: 0.8896 - val_loss: 0.3662\n",
      "Epoch 6/20\n",
      "\u001b[1m600/600\u001b[0m \u001b[32m━━━━━━━━━━━━━━━━━━━━\u001b[0m\u001b[37m\u001b[0m \u001b[1m11s\u001b[0m 19ms/step - categorical_accuracy: 0.9071 - loss: 0.2724 - val_categorical_accuracy: 0.8883 - val_loss: 0.3521\n"
     ]
    }
   ],
   "source": [
    "history = simple_nn.fit(train_images, y_train_oh, epochs=20, validation_data=(test_images, y_test_oh), batch_size=100,  callbacks=[early_stopping])"
   ]
  },
  {
   "cell_type": "code",
   "execution_count": 51,
   "id": "d4213aea-9dbe-4eeb-bac1-435e0399b7c5",
   "metadata": {},
   "outputs": [
    {
     "name": "stdout",
     "output_type": "stream",
     "text": [
      "dict_keys(['categorical_accuracy', 'loss', 'val_categorical_accuracy', 'val_loss'])\n"
     ]
    },
    {
     "data": {
      "image/png": "[encoded data removed]",
      "text/plain": [
       "<Figure size 640x480 with 1 Axes>"
      ]
     },
     "metadata": {},
     "output_type": "display_data"
    }
   ],
   "source": [
    "print(history.history.keys())\n",
    "plt.plot(history.history['categorical_accuracy'])\n",
    "plt.plot(history.history['val_categorical_accuracy'])\n",
    "plt.title('model accuracy')\n",
    "plt.ylabel('accuracy')\n",
    "plt.xlabel('epoch')\n",
    "plt.legend(['train', 'validation'], loc='upper left')\n",
    "plt.show()"
   ]
  },
  {
   "cell_type": "markdown",
   "id": "ce0bb112-f0fd-4015-bb6f-3b51e5344ee0",
   "metadata": {},
   "source": [
    "On remarque immédiatement qu'on à de bien meilleures performances en ajoutant à notre modèle une couche convolutionelle (alors que les couches denses restent identiques). En effet, on obtient en validation 88% de bonnes réponses contre 69% avec le réseau simple\n",
    "Grâce au early stopping on remarque que le modèle s'est stabilisé beaucoup plus rapidement (5 epochs avec le CNN contre 14 pour le réseau simple)."
   ]
  },
  {
   "cell_type": "code",
   "execution_count": 52,
   "id": "83f61df8-9277-4647-a4cc-5b0727ed9aaa",
   "metadata": {},
   "outputs": [
    {
     "data": {
      "text/plain": [
       "<matplotlib.legend.Legend at 0x177d7565b90>"
      ]
     },
     "execution_count": 52,
     "metadata": {},
     "output_type": "execute_result"
    },
    {
     "data": {
      "image/png": "[encoded data removed]",
      "text/plain": [
       "<Figure size 640x480 with 1 Axes>"
      ]
     },
     "metadata": {},
     "output_type": "display_data"
    }
   ],
   "source": [
    "plt.plot(history.history['loss'])\n",
    "plt.plot(history.history['val_loss'])\n",
    "plt.title('model loss')\n",
    "plt.ylabel('loss')\n",
    "plt.xlabel('epoch')\n",
    "plt.legend(['train', 'validation'], loc='upper left')"
   ]
  },
  {
   "cell_type": "markdown",
   "id": "722339be-99b8-4d82-86bc-37f58e884178",
   "metadata": {},
   "source": [
    "On va évaluer la performance du modèle CNN avec un K fold cross validation."
   ]
  },
  {
   "cell_type": "code",
   "execution_count": 55,
   "id": "f7ea01d2-8767-4ab8-bcac-3ce9d75fe1d0",
   "metadata": {},
   "outputs": [],
   "source": [
    "#Création d'une fonction qui retourne un modele :\n",
    "\n",
    "def create_model():\n",
    "    simple_nn = tf.keras.models.Sequential([\n",
    "    #Sequential : Enchainement des couches de manière séquentielle. Toutes les couches sont reliées les unes aux autres.\n",
    "\n",
    "    # #Couche d'entrée\n",
    "    tf.keras.layers.InputLayer(input_shape=(28, 28, 1)),\n",
    "\n",
    "    #Premère couche convolutionelle\n",
    "    tf.keras.layers.Conv2D(filters=32, kernel_size=(3, 3), activation='relu'),\n",
    "    tf.keras.layers.MaxPooling2D(pool_size=(2, 2)),\n",
    "\n",
    "    #Applatissement de l'image pour les couches denses\n",
    "    tf.keras.layers.Flatten(),\n",
    "\n",
    "    #Premère couche cachée\n",
    "    tf.keras.layers.Dense(units=256, activation='relu'),\n",
    "    tf.keras.layers.Dropout(0.3),\n",
    "    \n",
    "    # Seconde couche cachée \n",
    "    tf.keras.layers.Dense(units=128, activation='relu'),\n",
    "    tf.keras.layers.Dropout(0.3),  \n",
    "    \n",
    "    # Couche de sortie\n",
    "    tf.keras.layers.Dense(units=10, activation=\"softmax\")\n",
    "])\n",
    "\n",
    "    #Compilation du modèle\n",
    "    simple_nn.compile(optimizer=tf.keras.optimizers.RMSprop(learning_rate=0.001),\n",
    "                  loss=tf.keras.losses.CategoricalCrossentropy(), #Classification multiclasse\n",
    "                  metrics=[tf.keras.metrics.CategoricalAccuracy()])\n",
    "\n",
    "    return simple_nn\n"
   ]
  },
  {
   "cell_type": "code",
   "execution_count": 57,
   "id": "5afc19b7-de4a-4437-9380-bd179a055f12",
   "metadata": {},
   "outputs": [
    {
     "name": "stdout",
     "output_type": "stream",
     "text": [
      "Training on fold 1...\n",
      "Fold 1 - Validation Accuracy: 0.8474166393280029\n",
      "Training on fold 2...\n",
      "Fold 2 - Validation Accuracy: 0.8479999899864197\n",
      "Training on fold 3...\n",
      "Fold 3 - Validation Accuracy: 0.8551666736602783\n",
      "Training on fold 4...\n",
      "Fold 4 - Validation Accuracy: 0.8452500104904175\n",
      "Training on fold 5...\n",
      "Fold 5 - Validation Accuracy: 0.8448333144187927\n",
      "Average Validation Accuracy: 0.8481333255767822\n",
      "Standard Deviation of accuracy: 0.0037202952128178915\n"
     ]
    }
   ],
   "source": [
    "# Paramètres\n",
    "n_splits = 5  # Nombre de splits dans le K-Fold\n",
    "epochs = 10  # Nombre d'époques d'entraînement pour chaque fold\n",
    "\n",
    "# Initialiser KFold\n",
    "kf = KFold(n_splits=n_splits, shuffle=True, random_state=42)\n",
    "\n",
    "#On va garder les résultats de chaque fold\n",
    "fold_no = 1\n",
    "fold_accuracies = []\n",
    "\n",
    "# Boucle sur chaque split du KFold\n",
    "for train_index, val_index in kf.split(train_images):  # Utiliser les données aplaties pour KFold\n",
    "    \n",
    "    print(f'Training on fold {fold_no}...')\n",
    "    \n",
    "    # Créer le modèle pour ce fold (Supposons que la fonction create_model est définie)\n",
    "    model = create_model()\n",
    "    \n",
    "    # Diviser les données en train et validation pour ce fold\n",
    "    X_train, X_val = train_images[train_index], train_images[val_index]\n",
    "\n",
    "    y_train_oh_np = pd.get_dummies(train_labels).values  # .values convertit en Numpy array\n",
    "\n",
    "    y_train, y_val = y_train_oh_np[train_index], y_train_oh_np[val_index]\n",
    "    \n",
    "    # Entraîner le modèle\n",
    "    history = model.fit(X_train, y_train, epochs=epochs, validation_data=(X_val, y_val), verbose=0)\n",
    "    \n",
    "    # Évaluer la précision sur les données de validation\n",
    "    val_loss, val_acc = model.evaluate(X_val, y_val, verbose=0)\n",
    "    print(f'Fold {fold_no} - Validation Accuracy: {val_acc}')\n",
    "    \n",
    "    # Stocker la précision pour ce fold\n",
    "    fold_accuracies.append(val_acc)\n",
    "    \n",
    "    fold_no += 1\n",
    "\n",
    "# Moyenne des précisions sur les folds\n",
    "print(f'Average Validation Accuracy: {np.mean(fold_accuracies)}')\n",
    "print(f'Standard Deviation of accuracy: {np.std(fold_accuracies)}')"
   ]
  },
  {
   "cell_type": "markdown",
   "id": "f546bcb9-0b64-4d42-a1e5-968ad19aede2",
   "metadata": {},
   "source": [
    "On remarque tout de suite que les performances moyennes sont très bonnes en validation, et entre les folds, la variance est faible. Ce modèle est bon."
   ]
  },
  {
   "cell_type": "markdown",
   "id": "1944f3d8-e8a6-43bf-a6a4-3afa69eae447",
   "metadata": {},
   "source": [
    "##### Comparaison de la classification. Variation des paramètres du modèle"
   ]
  },
  {
   "cell_type": "markdown",
   "id": "8934869d-9c1e-45f7-9949-b4f81f58a177",
   "metadata": {},
   "source": [
    "Je vais essayer d'ajouter deux autres couches convolutionelles (filter 64 et 128) pour récupérer des détails plus précis sur chaque image. De plus, je vais changer la fonction d'activation et utiliser Adam."
   ]
  },
  {
   "cell_type": "code",
   "execution_count": 64,
   "id": "1f004805-de32-49c8-a497-7c7b6ce10964",
   "metadata": {},
   "outputs": [
    {
     "name": "stderr",
     "output_type": "stream",
     "text": [
      "C:\\Users\\Rose Tchala Sare\\anaconda3\\Lib\\site-packages\\keras\\src\\layers\\core\\input_layer.py:26: UserWarning: Argument `input_shape` is deprecated. Use `shape` instead.\n",
      "  warnings.warn(\n"
     ]
    }
   ],
   "source": [
    "simple_nn = tf.keras.models.Sequential([\n",
    "    #Sequential : Enchainement des couches de manière séquentielle. Toutes les couches sont reliées les unes aux autres.\n",
    "\n",
    "    # #Couche d'entrée\n",
    "    tf.keras.layers.InputLayer(input_shape=(28, 28, 1)),\n",
    "\n",
    "    #Premère couche convolutionelle\n",
    "    tf.keras.layers.Conv2D(filters=32, kernel_size=(3, 3), activation='relu'),\n",
    "    tf.keras.layers.MaxPooling2D(pool_size=(2, 2)),\n",
    "\n",
    "    #Seconde couche convolutionelle\n",
    "    tf.keras.layers.Conv2D(filters=64, kernel_size=(3, 3), activation='relu'),\n",
    "    tf.keras.layers.MaxPooling2D(pool_size=(2, 2)),\n",
    "\n",
    "    #Troisième couche convolutionelle\n",
    "    tf.keras.layers.Conv2D(filters=128, kernel_size=(3, 3), activation='relu'),\n",
    "    tf.keras.layers.MaxPooling2D(pool_size=(2, 2)),\n",
    "\n",
    "    #Applatissement de l'image pour les couches denses\n",
    "    tf.keras.layers.Flatten(),\n",
    "\n",
    "    #Premère couche cachée\n",
    "    tf.keras.layers.Dense(units=256, activation='relu'),\n",
    "    tf.keras.layers.Dropout(0.3),\n",
    "    \n",
    "    # Seconde couche cachée \n",
    "    tf.keras.layers.Dense(units=128, activation='relu'),\n",
    "    tf.keras.layers.Dropout(0.3),  \n",
    "    \n",
    "    # Couche de sortie\n",
    "    tf.keras.layers.Dense(units=10, activation=\"softmax\")\n",
    "])"
   ]
  },
  {
   "cell_type": "code",
   "execution_count": 65,
   "id": "ef44bf33-3c1f-41ff-8d4f-66bb24be795c",
   "metadata": {},
   "outputs": [],
   "source": [
    "# Compilation du modèle\n",
    "simple_nn.compile(optimizer=tf.keras.optimizers.Adam(learning_rate=0.001),  # Remplacer RMSprop par Adam\n",
    "                  loss=tf.keras.losses.CategoricalCrossentropy(),  # Classification multiclasse\n",
    "                  metrics=[tf.keras.metrics.CategoricalAccuracy()])"
   ]
  },
  {
   "cell_type": "code",
   "execution_count": 66,
   "id": "700f23e5-0f8e-4c64-9612-43bfc49fd2ee",
   "metadata": {},
   "outputs": [
    {
     "data": {
      "text/html": [
       "<pre style=\"white-space:pre;overflow-x:auto;line-height:normal;font-family:Menlo,'DejaVu Sans Mono',consolas,'Courier New',monospace\"><span style=\"font-weight: bold\">Model: \"sequential_20\"</span>\n",
       "</pre>\n"
      ],
      "text/plain": [
       "\u001b[1mModel: \"sequential_20\"\u001b[0m\n"
      ]
     },
     "metadata": {},
     "output_type": "display_data"
    },
    {
     "data": {
      "text/html": [
       "<pre style=\"white-space:pre;overflow-x:auto;line-height:normal;font-family:Menlo,'DejaVu Sans Mono',consolas,'Courier New',monospace\">┏━━━━━━━━━━━━━━━━━━━━━━━━━━━━━━━━━┳━━━━━━━━━━━━━━━━━━━━━━━━┳━━━━━━━━━━━━━━━┓\n",
       "┃<span style=\"font-weight: bold\"> Layer (type)                    </span>┃<span style=\"font-weight: bold\"> Output Shape           </span>┃<span style=\"font-weight: bold\">       Param # </span>┃\n",
       "┡━━━━━━━━━━━━━━━━━━━━━━━━━━━━━━━━━╇━━━━━━━━━━━━━━━━━━━━━━━━╇━━━━━━━━━━━━━━━┩\n",
       "│ conv2d_11 (<span style=\"color: #0087ff; text-decoration-color: #0087ff\">Conv2D</span>)              │ (<span style=\"color: #00d7ff; text-decoration-color: #00d7ff\">None</span>, <span style=\"color: #00af00; text-decoration-color: #00af00\">26</span>, <span style=\"color: #00af00; text-decoration-color: #00af00\">26</span>, <span style=\"color: #00af00; text-decoration-color: #00af00\">32</span>)     │           <span style=\"color: #00af00; text-decoration-color: #00af00\">320</span> │\n",
       "├─────────────────────────────────┼────────────────────────┼───────────────┤\n",
       "│ max_pooling2d_11 (<span style=\"color: #0087ff; text-decoration-color: #0087ff\">MaxPooling2D</span>) │ (<span style=\"color: #00d7ff; text-decoration-color: #00d7ff\">None</span>, <span style=\"color: #00af00; text-decoration-color: #00af00\">13</span>, <span style=\"color: #00af00; text-decoration-color: #00af00\">13</span>, <span style=\"color: #00af00; text-decoration-color: #00af00\">32</span>)     │             <span style=\"color: #00af00; text-decoration-color: #00af00\">0</span> │\n",
       "├─────────────────────────────────┼────────────────────────┼───────────────┤\n",
       "│ conv2d_12 (<span style=\"color: #0087ff; text-decoration-color: #0087ff\">Conv2D</span>)              │ (<span style=\"color: #00d7ff; text-decoration-color: #00d7ff\">None</span>, <span style=\"color: #00af00; text-decoration-color: #00af00\">11</span>, <span style=\"color: #00af00; text-decoration-color: #00af00\">11</span>, <span style=\"color: #00af00; text-decoration-color: #00af00\">64</span>)     │        <span style=\"color: #00af00; text-decoration-color: #00af00\">18,496</span> │\n",
       "├─────────────────────────────────┼────────────────────────┼───────────────┤\n",
       "│ max_pooling2d_12 (<span style=\"color: #0087ff; text-decoration-color: #0087ff\">MaxPooling2D</span>) │ (<span style=\"color: #00d7ff; text-decoration-color: #00d7ff\">None</span>, <span style=\"color: #00af00; text-decoration-color: #00af00\">5</span>, <span style=\"color: #00af00; text-decoration-color: #00af00\">5</span>, <span style=\"color: #00af00; text-decoration-color: #00af00\">64</span>)       │             <span style=\"color: #00af00; text-decoration-color: #00af00\">0</span> │\n",
       "├─────────────────────────────────┼────────────────────────┼───────────────┤\n",
       "│ conv2d_13 (<span style=\"color: #0087ff; text-decoration-color: #0087ff\">Conv2D</span>)              │ (<span style=\"color: #00d7ff; text-decoration-color: #00d7ff\">None</span>, <span style=\"color: #00af00; text-decoration-color: #00af00\">3</span>, <span style=\"color: #00af00; text-decoration-color: #00af00\">3</span>, <span style=\"color: #00af00; text-decoration-color: #00af00\">128</span>)      │        <span style=\"color: #00af00; text-decoration-color: #00af00\">73,856</span> │\n",
       "├─────────────────────────────────┼────────────────────────┼───────────────┤\n",
       "│ max_pooling2d_13 (<span style=\"color: #0087ff; text-decoration-color: #0087ff\">MaxPooling2D</span>) │ (<span style=\"color: #00d7ff; text-decoration-color: #00d7ff\">None</span>, <span style=\"color: #00af00; text-decoration-color: #00af00\">1</span>, <span style=\"color: #00af00; text-decoration-color: #00af00\">1</span>, <span style=\"color: #00af00; text-decoration-color: #00af00\">128</span>)      │             <span style=\"color: #00af00; text-decoration-color: #00af00\">0</span> │\n",
       "├─────────────────────────────────┼────────────────────────┼───────────────┤\n",
       "│ flatten_9 (<span style=\"color: #0087ff; text-decoration-color: #0087ff\">Flatten</span>)             │ (<span style=\"color: #00d7ff; text-decoration-color: #00d7ff\">None</span>, <span style=\"color: #00af00; text-decoration-color: #00af00\">128</span>)            │             <span style=\"color: #00af00; text-decoration-color: #00af00\">0</span> │\n",
       "├─────────────────────────────────┼────────────────────────┼───────────────┤\n",
       "│ dense_71 (<span style=\"color: #0087ff; text-decoration-color: #0087ff\">Dense</span>)                │ (<span style=\"color: #00d7ff; text-decoration-color: #00d7ff\">None</span>, <span style=\"color: #00af00; text-decoration-color: #00af00\">256</span>)            │        <span style=\"color: #00af00; text-decoration-color: #00af00\">33,024</span> │\n",
       "├─────────────────────────────────┼────────────────────────┼───────────────┤\n",
       "│ dropout_40 (<span style=\"color: #0087ff; text-decoration-color: #0087ff\">Dropout</span>)            │ (<span style=\"color: #00d7ff; text-decoration-color: #00d7ff\">None</span>, <span style=\"color: #00af00; text-decoration-color: #00af00\">256</span>)            │             <span style=\"color: #00af00; text-decoration-color: #00af00\">0</span> │\n",
       "├─────────────────────────────────┼────────────────────────┼───────────────┤\n",
       "│ dense_72 (<span style=\"color: #0087ff; text-decoration-color: #0087ff\">Dense</span>)                │ (<span style=\"color: #00d7ff; text-decoration-color: #00d7ff\">None</span>, <span style=\"color: #00af00; text-decoration-color: #00af00\">128</span>)            │        <span style=\"color: #00af00; text-decoration-color: #00af00\">32,896</span> │\n",
       "├─────────────────────────────────┼────────────────────────┼───────────────┤\n",
       "│ dropout_41 (<span style=\"color: #0087ff; text-decoration-color: #0087ff\">Dropout</span>)            │ (<span style=\"color: #00d7ff; text-decoration-color: #00d7ff\">None</span>, <span style=\"color: #00af00; text-decoration-color: #00af00\">128</span>)            │             <span style=\"color: #00af00; text-decoration-color: #00af00\">0</span> │\n",
       "├─────────────────────────────────┼────────────────────────┼───────────────┤\n",
       "│ dense_73 (<span style=\"color: #0087ff; text-decoration-color: #0087ff\">Dense</span>)                │ (<span style=\"color: #00d7ff; text-decoration-color: #00d7ff\">None</span>, <span style=\"color: #00af00; text-decoration-color: #00af00\">10</span>)             │         <span style=\"color: #00af00; text-decoration-color: #00af00\">1,290</span> │\n",
       "└─────────────────────────────────┴────────────────────────┴───────────────┘\n",
       "</pre>\n"
      ],
      "text/plain": [
       "┏━━━━━━━━━━━━━━━━━━━━━━━━━━━━━━━━━┳━━━━━━━━━━━━━━━━━━━━━━━━┳━━━━━━━━━━━━━━━┓\n",
       "┃\u001b[1m \u001b[0m\u001b[1mLayer (type)                   \u001b[0m\u001b[1m \u001b[0m┃\u001b[1m \u001b[0m\u001b[1mOutput Shape          \u001b[0m\u001b[1m \u001b[0m┃\u001b[1m \u001b[0m\u001b[1m      Param #\u001b[0m\u001b[1m \u001b[0m┃\n",
       "┡━━━━━━━━━━━━━━━━━━━━━━━━━━━━━━━━━╇━━━━━━━━━━━━━━━━━━━━━━━━╇━━━━━━━━━━━━━━━┩\n",
       "│ conv2d_11 (\u001b[38;5;33mConv2D\u001b[0m)              │ (\u001b[38;5;45mNone\u001b[0m, \u001b[38;5;34m26\u001b[0m, \u001b[38;5;34m26\u001b[0m, \u001b[38;5;34m32\u001b[0m)     │           \u001b[38;5;34m320\u001b[0m │\n",
       "├─────────────────────────────────┼────────────────────────┼───────────────┤\n",
       "│ max_pooling2d_11 (\u001b[38;5;33mMaxPooling2D\u001b[0m) │ (\u001b[38;5;45mNone\u001b[0m, \u001b[38;5;34m13\u001b[0m, \u001b[38;5;34m13\u001b[0m, \u001b[38;5;34m32\u001b[0m)     │             \u001b[38;5;34m0\u001b[0m │\n",
       "├─────────────────────────────────┼────────────────────────┼───────────────┤\n",
       "│ conv2d_12 (\u001b[38;5;33mConv2D\u001b[0m)              │ (\u001b[38;5;45mNone\u001b[0m, \u001b[38;5;34m11\u001b[0m, \u001b[38;5;34m11\u001b[0m, \u001b[38;5;34m64\u001b[0m)     │        \u001b[38;5;34m18,496\u001b[0m │\n",
       "├─────────────────────────────────┼────────────────────────┼───────────────┤\n",
       "│ max_pooling2d_12 (\u001b[38;5;33mMaxPooling2D\u001b[0m) │ (\u001b[38;5;45mNone\u001b[0m, \u001b[38;5;34m5\u001b[0m, \u001b[38;5;34m5\u001b[0m, \u001b[38;5;34m64\u001b[0m)       │             \u001b[38;5;34m0\u001b[0m │\n",
       "├─────────────────────────────────┼────────────────────────┼───────────────┤\n",
       "│ conv2d_13 (\u001b[38;5;33mConv2D\u001b[0m)              │ (\u001b[38;5;45mNone\u001b[0m, \u001b[38;5;34m3\u001b[0m, \u001b[38;5;34m3\u001b[0m, \u001b[38;5;34m128\u001b[0m)      │        \u001b[38;5;34m73,856\u001b[0m │\n",
       "├─────────────────────────────────┼────────────────────────┼───────────────┤\n",
       "│ max_pooling2d_13 (\u001b[38;5;33mMaxPooling2D\u001b[0m) │ (\u001b[38;5;45mNone\u001b[0m, \u001b[38;5;34m1\u001b[0m, \u001b[38;5;34m1\u001b[0m, \u001b[38;5;34m128\u001b[0m)      │             \u001b[38;5;34m0\u001b[0m │\n",
       "├─────────────────────────────────┼────────────────────────┼───────────────┤\n",
       "│ flatten_9 (\u001b[38;5;33mFlatten\u001b[0m)             │ (\u001b[38;5;45mNone\u001b[0m, \u001b[38;5;34m128\u001b[0m)            │             \u001b[38;5;34m0\u001b[0m │\n",
       "├─────────────────────────────────┼────────────────────────┼───────────────┤\n",
       "│ dense_71 (\u001b[38;5;33mDense\u001b[0m)                │ (\u001b[38;5;45mNone\u001b[0m, \u001b[38;5;34m256\u001b[0m)            │        \u001b[38;5;34m33,024\u001b[0m │\n",
       "├─────────────────────────────────┼────────────────────────┼───────────────┤\n",
       "│ dropout_40 (\u001b[38;5;33mDropout\u001b[0m)            │ (\u001b[38;5;45mNone\u001b[0m, \u001b[38;5;34m256\u001b[0m)            │             \u001b[38;5;34m0\u001b[0m │\n",
       "├─────────────────────────────────┼────────────────────────┼───────────────┤\n",
       "│ dense_72 (\u001b[38;5;33mDense\u001b[0m)                │ (\u001b[38;5;45mNone\u001b[0m, \u001b[38;5;34m128\u001b[0m)            │        \u001b[38;5;34m32,896\u001b[0m │\n",
       "├─────────────────────────────────┼────────────────────────┼───────────────┤\n",
       "│ dropout_41 (\u001b[38;5;33mDropout\u001b[0m)            │ (\u001b[38;5;45mNone\u001b[0m, \u001b[38;5;34m128\u001b[0m)            │             \u001b[38;5;34m0\u001b[0m │\n",
       "├─────────────────────────────────┼────────────────────────┼───────────────┤\n",
       "│ dense_73 (\u001b[38;5;33mDense\u001b[0m)                │ (\u001b[38;5;45mNone\u001b[0m, \u001b[38;5;34m10\u001b[0m)             │         \u001b[38;5;34m1,290\u001b[0m │\n",
       "└─────────────────────────────────┴────────────────────────┴───────────────┘\n"
      ]
     },
     "metadata": {},
     "output_type": "display_data"
    },
    {
     "data": {
      "text/html": [
       "<pre style=\"white-space:pre;overflow-x:auto;line-height:normal;font-family:Menlo,'DejaVu Sans Mono',consolas,'Courier New',monospace\"><span style=\"font-weight: bold\"> Total params: </span><span style=\"color: #00af00; text-decoration-color: #00af00\">159,882</span> (624.54 KB)\n",
       "</pre>\n"
      ],
      "text/plain": [
       "\u001b[1m Total params: \u001b[0m\u001b[38;5;34m159,882\u001b[0m (624.54 KB)\n"
      ]
     },
     "metadata": {},
     "output_type": "display_data"
    },
    {
     "data": {
      "text/html": [
       "<pre style=\"white-space:pre;overflow-x:auto;line-height:normal;font-family:Menlo,'DejaVu Sans Mono',consolas,'Courier New',monospace\"><span style=\"font-weight: bold\"> Trainable params: </span><span style=\"color: #00af00; text-decoration-color: #00af00\">159,882</span> (624.54 KB)\n",
       "</pre>\n"
      ],
      "text/plain": [
       "\u001b[1m Trainable params: \u001b[0m\u001b[38;5;34m159,882\u001b[0m (624.54 KB)\n"
      ]
     },
     "metadata": {},
     "output_type": "display_data"
    },
    {
     "data": {
      "text/html": [
       "<pre style=\"white-space:pre;overflow-x:auto;line-height:normal;font-family:Menlo,'DejaVu Sans Mono',consolas,'Courier New',monospace\"><span style=\"font-weight: bold\"> Non-trainable params: </span><span style=\"color: #00af00; text-decoration-color: #00af00\">0</span> (0.00 B)\n",
       "</pre>\n"
      ],
      "text/plain": [
       "\u001b[1m Non-trainable params: \u001b[0m\u001b[38;5;34m0\u001b[0m (0.00 B)\n"
      ]
     },
     "metadata": {},
     "output_type": "display_data"
    }
   ],
   "source": [
    "simple_nn.summary()"
   ]
  },
  {
   "cell_type": "code",
   "execution_count": 67,
   "id": "a4f8eb4f-00e9-4aeb-9c65-49b5cc76b6f1",
   "metadata": {},
   "outputs": [
    {
     "name": "stdout",
     "output_type": "stream",
     "text": [
      "Epoch 1/10\n",
      "\u001b[1m600/600\u001b[0m \u001b[32m━━━━━━━━━━━━━━━━━━━━\u001b[0m\u001b[37m\u001b[0m \u001b[1m11s\u001b[0m 16ms/step - categorical_accuracy: 0.6376 - loss: 1.3697 - val_categorical_accuracy: 0.8302 - val_loss: 0.4657\n",
      "Epoch 2/10\n",
      "\u001b[1m600/600\u001b[0m \u001b[32m━━━━━━━━━━━━━━━━━━━━\u001b[0m\u001b[37m\u001b[0m \u001b[1m9s\u001b[0m 15ms/step - categorical_accuracy: 0.8378 - loss: 0.4563 - val_categorical_accuracy: 0.8458 - val_loss: 0.4198\n",
      "Epoch 3/10\n",
      "\u001b[1m600/600\u001b[0m \u001b[32m━━━━━━━━━━━━━━━━━━━━\u001b[0m\u001b[37m\u001b[0m \u001b[1m9s\u001b[0m 15ms/step - categorical_accuracy: 0.8578 - loss: 0.3949 - val_categorical_accuracy: 0.8575 - val_loss: 0.3860\n",
      "Epoch 4/10\n",
      "\u001b[1m600/600\u001b[0m \u001b[32m━━━━━━━━━━━━━━━━━━━━\u001b[0m\u001b[37m\u001b[0m \u001b[1m10s\u001b[0m 17ms/step - categorical_accuracy: 0.8694 - loss: 0.3541 - val_categorical_accuracy: 0.8666 - val_loss: 0.3657\n",
      "Epoch 5/10\n",
      "\u001b[1m600/600\u001b[0m \u001b[32m━━━━━━━━━━━━━━━━━━━━\u001b[0m\u001b[37m\u001b[0m \u001b[1m10s\u001b[0m 16ms/step - categorical_accuracy: 0.8810 - loss: 0.3261 - val_categorical_accuracy: 0.8698 - val_loss: 0.3595\n",
      "Epoch 6/10\n",
      "\u001b[1m600/600\u001b[0m \u001b[32m━━━━━━━━━━━━━━━━━━━━\u001b[0m\u001b[37m\u001b[0m \u001b[1m10s\u001b[0m 17ms/step - categorical_accuracy: 0.8897 - loss: 0.3027 - val_categorical_accuracy: 0.8725 - val_loss: 0.3615\n",
      "Epoch 7/10\n",
      "\u001b[1m600/600\u001b[0m \u001b[32m━━━━━━━━━━━━━━━━━━━━\u001b[0m\u001b[37m\u001b[0m \u001b[1m10s\u001b[0m 16ms/step - categorical_accuracy: 0.8952 - loss: 0.2890 - val_categorical_accuracy: 0.8824 - val_loss: 0.3307\n",
      "Epoch 8/10\n",
      "\u001b[1m600/600\u001b[0m \u001b[32m━━━━━━━━━━━━━━━━━━━━\u001b[0m\u001b[37m\u001b[0m \u001b[1m10s\u001b[0m 16ms/step - categorical_accuracy: 0.9008 - loss: 0.2737 - val_categorical_accuracy: 0.8743 - val_loss: 0.3483\n",
      "Epoch 9/10\n",
      "\u001b[1m600/600\u001b[0m \u001b[32m━━━━━━━━━━━━━━━━━━━━\u001b[0m\u001b[37m\u001b[0m \u001b[1m9s\u001b[0m 15ms/step - categorical_accuracy: 0.9013 - loss: 0.2653 - val_categorical_accuracy: 0.8716 - val_loss: 0.3568\n",
      "Epoch 10/10\n",
      "\u001b[1m600/600\u001b[0m \u001b[32m━━━━━━━━━━━━━━━━━━━━\u001b[0m\u001b[37m\u001b[0m \u001b[1m10s\u001b[0m 16ms/step - categorical_accuracy: 0.9065 - loss: 0.2500 - val_categorical_accuracy: 0.8797 - val_loss: 0.3454\n"
     ]
    }
   ],
   "source": [
    "history = simple_nn.fit(train_images, y_train_oh, epochs=10, validation_data=(test_images, y_test_oh), batch_size=100)"
   ]
  },
  {
   "cell_type": "code",
   "execution_count": 68,
   "id": "fe824a0e-7087-4bf2-bf88-4aab23d44657",
   "metadata": {},
   "outputs": [
    {
     "data": {
      "image/png": "[encoded data removed]",
      "text/plain": [
       "<Figure size 640x480 with 1 Axes>"
      ]
     },
     "metadata": {},
     "output_type": "display_data"
    }
   ],
   "source": [
    "plt.plot(history.history['categorical_accuracy'])\n",
    "plt.plot(history.history['val_categorical_accuracy'])\n",
    "plt.title('model accuracy')\n",
    "plt.ylabel('accuracy')\n",
    "plt.xlabel('epoch')\n",
    "plt.legend(['train', 'validation'], loc='upper left')\n",
    "plt.show()"
   ]
  },
  {
   "cell_type": "code",
   "execution_count": 69,
   "id": "ba208f38-8b67-4ac4-9888-ffb81486b983",
   "metadata": {},
   "outputs": [
    {
     "data": {
      "text/plain": [
       "<matplotlib.legend.Legend at 0x177e4b37d90>"
      ]
     },
     "execution_count": 69,
     "metadata": {},
     "output_type": "execute_result"
    },
    {
     "data": {
      "image/png": "[encoded data removed]",
      "text/plain": [
       "<Figure size 640x480 with 1 Axes>"
      ]
     },
     "metadata": {},
     "output_type": "display_data"
    }
   ],
   "source": [
    "plt.plot(history.history['loss'])\n",
    "plt.plot(history.history['val_loss'])\n",
    "plt.title('model loss')\n",
    "plt.ylabel('loss')\n",
    "plt.xlabel('epoch')\n",
    "plt.legend(['train', 'validation'], loc='upper left')"
   ]
  },
  {
   "cell_type": "markdown",
   "id": "c4b14d7b-8ebe-43cf-bf59-75883d3963b0",
   "metadata": {},
   "source": [
    "On n'observe pas réellement de différence avec le modèle précédent en changeant les paramètres. Les performances sont toujours aussi bonnes (87% de bonnes réponses en validation)."
   ]
  },
  {
   "cell_type": "code",
   "execution_count": 70,
   "id": "ca508e37-38d0-4ca7-886b-5233364fbdda",
   "metadata": {},
   "outputs": [
    {
     "name": "stdout",
     "output_type": "stream",
     "text": [
      "\u001b[1m313/313\u001b[0m \u001b[32m━━━━━━━━━━━━━━━━━━━━\u001b[0m\u001b[37m\u001b[0m \u001b[1m2s\u001b[0m 5ms/step\n"
     ]
    }
   ],
   "source": [
    "pred_CNN =simple_nn.predict(test_images)"
   ]
  },
  {
   "cell_type": "markdown",
   "id": "a8a108ae-f77b-472b-85b0-ae0b2e746427",
   "metadata": {},
   "source": [
    "#### Comparaison statistiques des résultats entre le réseau sur les données test"
   ]
  },
  {
   "cell_type": "markdown",
   "id": "29b1dcc3-4da5-4e9f-8341-99639b1adc34",
   "metadata": {},
   "source": [
    "L'objectif de cette partie est de déterminer si il y a une différence statistique entre la répartition des classes selon nos deux modèles, le modèle utilisant un réseau formé uniquement de couches denses, et notre dernier modèle utilisant trois couches convolutionelles."
   ]
  },
  {
   "cell_type": "markdown",
   "id": "e2e4d38d-0fcc-4e2a-8ec8-eec05b441d6b",
   "metadata": {},
   "source": [
    "Le protocole utilisé est simple. Pour chaque modèle, nous allons contabiliser l'occurence de chaque classe dans un vecteur et assembler les deux vecteurs dans une table de contingence. Comme nos prédictions sont des valeurs catégoriques, il serait erroné de faire un t-test. Nous allons donc faire un test du Chi-2 et regarder s'il y a une différence significative dans la répartition des classes entre les deux vecteurs."
   ]
  },
  {
   "cell_type": "code",
   "execution_count": 80,
   "id": "6eedecfc-a7fa-4910-99a0-c75415cc625d",
   "metadata": {},
   "outputs": [],
   "source": [
    "#Les vecteurs pred CNN et pred Dense contiennent des probabilités. On doit récuperer pour chaque élement la classe la plus probable.\n",
    "classes_CNN = np.argmax(pred_CNN, axis=1)\n",
    "classes_Dense = np.argmax(pred_Dense, axis=1)"
   ]
  },
  {
   "cell_type": "code",
   "execution_count": 99,
   "id": "f49fae0a-d07c-45ce-9f16-d2ae28eb0c81",
   "metadata": {},
   "outputs": [],
   "source": [
    "#On crée un vecteur avec les occurences de chaque classe\n",
    "occ_CNN = np.unique(classes_CNN, return_counts=True)\n",
    "occ_Dense = np.unique(classes_Dense, return_counts=True)"
   ]
  },
  {
   "cell_type": "code",
   "execution_count": 104,
   "id": "c15fb9dd-ac24-436a-9db3-312f69c38066",
   "metadata": {},
   "outputs": [
    {
     "data": {
      "text/plain": [
       "<BarContainer object of 10 artists>"
      ]
     },
     "execution_count": 104,
     "metadata": {},
     "output_type": "execute_result"
    },
    {
     "data": {
      "image/png": "[encoded data removed]",
      "text/plain": [
       "<Figure size 1000x600 with 2 Axes>"
      ]
     },
     "metadata": {},
     "output_type": "display_data"
    }
   ],
   "source": [
    "#On va visualiser les occurences dans un barplot\n",
    "# On va visualiser 9 images\n",
    "\n",
    "num_rows, num_cols = 1, 2\n",
    "fig, axes = plt.subplots(num_rows, num_cols, figsize=(10, 6))\n",
    "\n",
    "#vecteur contenant le label de chaque classe\n",
    "classe = np.array([i for i in range(0, 10)])\n",
    "\n",
    "ax = axes.flat[0]\n",
    "ax.bar(classe, occ_CNN[1], color='lightpink')\n",
    "\n",
    "ax = axes.flat[1]\n",
    "ax.bar(classe, occ_Dense[1], color='thistle')\n",
    "\n",
    "\n"
   ]
  },
  {
   "cell_type": "markdown",
   "id": "dda0fd41-0dc1-4927-9812-12512d27e59b",
   "metadata": {},
   "source": [
    "La répartition des classes entre le réseau Convolutionnel (Rose) et le réseau Dense (violet) est très très différente. Confirmons tout cela avec un test du chi-deux."
   ]
  },
  {
   "cell_type": "code",
   "execution_count": 108,
   "id": "2bbca431-5c2d-40d9-b20a-6153b2392347",
   "metadata": {},
   "outputs": [
    {
     "name": "stdout",
     "output_type": "stream",
     "text": [
      "Statistique du chi-deux: 3124.600251245699\n",
      "Valeur p: 0.0\n",
      "Degrés de liberté: 9\n"
     ]
    }
   ],
   "source": [
    "from scipy.stats import chi2_contingency\n",
    "\n",
    "data = np.array([occ_CNN[1], occ_Dense[1]]).T\n",
    "\n",
    "# Effectuer le test du chi-deux\n",
    "chi2_stat, p_value, dof, expected = chi2_contingency(data)\n",
    "\n",
    "# Afficher les résultats\n",
    "print(f\"Statistique du chi-deux: {chi2_stat}\")\n",
    "print(f\"Valeur p: {p_value}\")\n",
    "print(f\"Degrés de liberté: {dof}\")"
   ]
  },
  {
   "cell_type": "markdown",
   "id": "8d014587-e958-4fe4-aee6-685db47b6691",
   "metadata": {},
   "source": [
    "Comment attendu, il y a une différence signnificative entre la répartition des classes pour les données test. On peut conclure que statistiquement les performances des deux types de structures diffèrent en terme de performance."
   ]
  }
 ],
 "metadata": {
  "kernelspec": {
   "display_name": "Python 3 (ipykernel)",
   "language": "python",
   "name": "python3"
  },
  "language_info": {
   "codemirror_mode": {
    "name": "ipython",
    "version": 3
   },
   "file_extension": ".py",
   "mimetype": "text/x-python",
   "name": "python",
   "nbconvert_exporter": "python",
   "pygments_lexer": "ipython3",
   "version": "3.11.7"
  }
 },
 "nbformat": 4,
 "nbformat_minor": 5
}
